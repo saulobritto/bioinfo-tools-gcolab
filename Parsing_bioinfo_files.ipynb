{
  "nbformat": 4,
  "nbformat_minor": 0,
  "metadata": {
    "colab": {
      "name": "Parsing bioinfo files.ipynb",
      "provenance": [],
      "collapsed_sections": [],
      "toc_visible": true,
      "mount_file_id": "1VLb9acfaAOvg0fgbX6Z8IufSw6hkuVzn",
      "authorship_tag": "ABX9TyPcRX1Ri7kjpFIsilsc+VCQ",
      "include_colab_link": true
    },
    "kernelspec": {
      "name": "python3",
      "display_name": "Python 3"
    }
  },
  "cells": [
    {
      "cell_type": "markdown",
      "metadata": {
        "id": "view-in-github",
        "colab_type": "text"
      },
      "source": [
        "<a href=\"https://colab.research.google.com/github/saulobritto/bioinfo-tools-gcolab/blob/main/Parsing_bioinfo_files.ipynb\" target=\"_parent\"><img src=\"https://colab.research.google.com/assets/colab-badge.svg\" alt=\"Open In Colab\"/></a>"
      ]
    },
    {
      "cell_type": "markdown",
      "metadata": {
        "id": "NE8AC6DEM8pp"
      },
      "source": [
        "#Base cheat-code to parse bioinfo files\n",
        "\n",
        "\n",
        "---\n",
        "Author:\n",
        "\n",
        "* Saulo Britto da Silva\n",
        " * saulobdasilva@gmail.com\n",
        " * https://github.com/saulobritto\n",
        "\n",
        "Last update: 08 Jan. 2021\n",
        "\n",
        "\n",
        ">This code search in .gbk files for match genes from a given list and intersect this search with a second list (a database list, generally).\n",
        "\n",
        "---\n"
      ]
    },
    {
      "cell_type": "code",
      "metadata": {
        "colab": {
          "base_uri": "https://localhost:8080/"
        },
        "id": "z7AUyp_b0TJD",
        "outputId": "0d28c4d2-c45a-46cd-c999-332235653df4"
      },
      "source": [
        "#installing biopython\r\n",
        "!pip install biopython"
      ],
      "execution_count": null,
      "outputs": [
        {
          "output_type": "stream",
          "text": [
            "Collecting biopython\n",
            "\u001b[?25l  Downloading https://files.pythonhosted.org/packages/76/02/8b606c4aa92ff61b5eda71d23b499ab1de57d5e818be33f77b01a6f435a8/biopython-1.78-cp36-cp36m-manylinux1_x86_64.whl (2.3MB)\n",
            "\u001b[K     |████████████████████████████████| 2.3MB 4.2MB/s \n",
            "\u001b[?25hRequirement already satisfied: numpy in /usr/local/lib/python3.6/dist-packages (from biopython) (1.18.5)\n",
            "Installing collected packages: biopython\n",
            "Successfully installed biopython-1.78\n"
          ],
          "name": "stdout"
        }
      ]
    },
    {
      "cell_type": "code",
      "metadata": {
        "id": "WZqZgmaAzoIJ"
      },
      "source": [
        "import os\r\n",
        "from Bio.Seq import Seq\r\n",
        "from Bio.SeqRecord import SeqRecord\r\n",
        "from Bio.SeqFeature import SeqFeature, FeatureLocation\r\n",
        "from Bio import SeqIO\r\n",
        "from io import StringIO\r\n",
        "import pathlib\r\n",
        "\r\n",
        "#list of genes of interest\r\n",
        "interest = ['gene1', 'gene2',...]\r\n",
        "\r\n",
        "#search for one or more files (in this case .gbk files in different places)\r\n",
        "referencia1 = list(pathlib.Path(\"path-to-folder-1\").glob(\"*.gbk\"))\r\n",
        "referencia2 = list(pathlib.Path(\"path-to-folder-2\").glob(\"*.gbk\"))\r\n",
        "\r\n",
        "#join the path\r\n",
        "referencia = referencia1 + referencia2\r\n",
        "\r\n",
        "genes = []\r\n",
        "\r\n",
        "#search, from a genes list, the genes and products from the files of interest (in this case .gbk)\r\n",
        "for file in referencia:\r\n",
        "  recs = SeqIO.to_dict(SeqIO.parse(file, \"genbank\"))\r\n",
        "  for i in recs:\r\n",
        "    for f in recs[i].features:\r\n",
        "        if f.type == \"CDS\":\r\n",
        "           for z in interest:\r\n",
        "            if z in f.qualifiers.get('gene', []):\r\n",
        "                print(f)\r\n",
        "                #create a list with genes + products from each gene\r\n",
        "                itens = [(f.qualifiers.get('gene', []), (f.qualifiers.get('product', [])))]\r\n",
        "                genes.extend(itens)\r\n",
        "\r\n",
        "#print the generated list               \r\n",
        "print(genes)"
      ],
      "execution_count": null,
      "outputs": []
    },
    {
      "cell_type": "code",
      "metadata": {
        "id": "uffGU8W3bpXI"
      },
      "source": [
        "import numpy as np\r\n",
        "\r\n",
        "#create a table from the genes and products found\r\n",
        "tabela = pandas.DataFrame(genes)\r\n",
        "tabela.columns =['Gene','Product']\r\n",
        "print(tabela)\r\n",
        "\r\n",
        "#create a list from genes column\r\n",
        "genes_match = tabela['Gene'].tolist()\r\n",
        "\r\n",
        "#print the list and its length\r\n",
        "print(genes_match)\r\n",
        "print(len(genes_match))"
      ],
      "execution_count": null,
      "outputs": []
    },
    {
      "cell_type": "code",
      "metadata": {
        "id": "ClKBWEPdgA5U"
      },
      "source": [
        "#normalizes the data left in lists within lists to a single list, to perform a intersection to another list\r\n",
        "listaUnica = []\r\n",
        "for l in genes_match:\r\n",
        "  for i in l:\r\n",
        "    listaUnica.append(i)\r\n",
        "print(listaUnica)\r\n",
        "print(len(listaUnica))"
      ],
      "execution_count": null,
      "outputs": []
    },
    {
      "cell_type": "code",
      "metadata": {
        "id": "yik23Q5wtoWV"
      },
      "source": [
        "#import a file from a database containing infos that you want to do an intersection\r\n",
        "\r\n",
        "list_2 = []"
      ],
      "execution_count": null,
      "outputs": []
    },
    {
      "cell_type": "code",
      "metadata": {
        "id": "w4RYvfTwC3A9"
      },
      "source": [
        "#intersection\r\n",
        "inter = list(set(listaUnica) & set(list_2))\r\n",
        "print(inter)"
      ],
      "execution_count": null,
      "outputs": []
    }
  ]
}