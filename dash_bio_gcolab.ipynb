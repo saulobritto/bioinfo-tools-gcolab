{
  "nbformat": 4,
  "nbformat_minor": 0,
  "metadata": {
    "colab": {
      "name": "dash-bio_gcolab.ipynb",
      "provenance": [],
      "authorship_tag": "ABX9TyNJpYsuUGOgFUpzWGKqJ7Kb",
      "include_colab_link": true
    },
    "kernelspec": {
      "name": "python3",
      "display_name": "Python 3"
    }
  },
  "cells": [
    {
      "cell_type": "markdown",
      "metadata": {
        "id": "view-in-github",
        "colab_type": "text"
      },
      "source": [
        "<a href=\"https://colab.research.google.com/github/saulobritto/bioinfo-tools-gcolab/blob/main/dash_bio_gcolab.ipynb\" target=\"_parent\"><img src=\"https://colab.research.google.com/assets/colab-badge.svg\" alt=\"Open In Colab\"/></a>"
      ]
    },
    {
      "cell_type": "markdown",
      "metadata": {
        "id": "5GBiNn-1UQQA"
      },
      "source": [
        "https://dash.plotly.com/dash-bio"
      ]
    },
    {
      "cell_type": "code",
      "metadata": {
        "id": "i-QYbWhDv0Jm"
      },
      "source": [
        "!pip install dash-bio==0.4.8"
      ],
      "execution_count": null,
      "outputs": []
    },
    {
      "cell_type": "code",
      "metadata": {
        "id": "rw2pd3k1MIuN"
      },
      "source": [
        "import dash_bio\n",
        "print(dash_bio.__version__)"
      ],
      "execution_count": null,
      "outputs": []
    },
    {
      "cell_type": "code",
      "metadata": {
        "id": "lmukWclaNb69"
      },
      "source": [
        "!pip install dash==1.12.0"
      ],
      "execution_count": null,
      "outputs": []
    },
    {
      "cell_type": "code",
      "metadata": {
        "id": "hAfi68XqNiDC"
      },
      "source": [
        "!wget https://bin.equinox.io/c/4VmDzA7iaHb/ngrok-stable-linux-amd64.zip\n",
        "!unzip ngrok-stable-linux-amd64.zip"
      ],
      "execution_count": null,
      "outputs": []
    },
    {
      "cell_type": "markdown",
      "metadata": {
        "id": "OWcBEy-JQKgH"
      },
      "source": [
        "#AlignmentViewer"
      ]
    },
    {
      "cell_type": "code",
      "metadata": {
        "colab": {
          "base_uri": "https://localhost:8080/"
        },
        "id": "Wi0OOO_QMPHC",
        "outputId": "ea07a70e-c4f4-486c-f0fb-353bd87ea4e1"
      },
      "source": [
        "%%writefile app.py\n",
        "import six.moves.urllib.request as urlreq\n",
        "from six import PY3\n",
        "\n",
        "import dash\n",
        "import dash_bio as dashbio\n",
        "import dash_html_components as html\n",
        "\n",
        "\n",
        "external_stylesheets = ['https://codepen.io/chriddyp/pen/bWLwgP.css']\n",
        "\n",
        "app = dash.Dash(__name__, external_stylesheets=external_stylesheets)\n",
        "\n",
        "data = urlreq.urlopen(\n",
        "    'https://raw.githubusercontent.com/plotly/dash-bio-docs-files/master/' +\n",
        "    'alignment_viewer_p53.fasta'\n",
        ").read()\n",
        "\n",
        "if PY3:\n",
        "    data = data.decode('utf-8')\n",
        "\n",
        "app.layout = html.Div([\n",
        "    dashbio.AlignmentChart(\n",
        "        id='my-alignment-viewer',\n",
        "        data=data\n",
        "    ),\n",
        "    html.Div(id='alignment-viewer-output')\n",
        "])\n",
        "\n",
        "\n",
        "@app.callback(\n",
        "    dash.dependencies.Output('alignment-viewer-output', 'children'),\n",
        "    [dash.dependencies.Input('my-alignment-viewer', 'eventDatum')]\n",
        ")\n",
        "def update_output(value):\n",
        "    if value is None:\n",
        "        return 'No data.'\n",
        "    return str(value)\n",
        "\n",
        "\n",
        "if __name__ == '__main__':\n",
        "    app.run_server(debug=True)"
      ],
      "execution_count": 16,
      "outputs": [
        {
          "output_type": "stream",
          "text": [
            "Overwriting app.py\n"
          ],
          "name": "stdout"
        }
      ]
    },
    {
      "cell_type": "code",
      "metadata": {
        "id": "uHN5QGWcNrS7"
      },
      "source": [
        "get_ipython().system_raw('./ngrok http 8050 &')"
      ],
      "execution_count": 11,
      "outputs": []
    },
    {
      "cell_type": "code",
      "metadata": {
        "colab": {
          "base_uri": "https://localhost:8080/"
        },
        "id": "3J9acvqINvqX",
        "outputId": "1d037b4d-06f6-4df5-ae37-48908147b33d"
      },
      "source": [
        "%%sh\n",
        "# get url with ngrok\n",
        "curl -s http://localhost:4040/api/tunnels | python3 -c \"import sys, json; print(json.load(sys.stdin)['tunnels'][0]['public_url'])\""
      ],
      "execution_count": 12,
      "outputs": [
        {
          "output_type": "stream",
          "text": [
            "https://ccfc0c6293e7.ngrok.io\n"
          ],
          "name": "stdout"
        }
      ]
    },
    {
      "cell_type": "code",
      "metadata": {
        "colab": {
          "base_uri": "https://localhost:8080/"
        },
        "id": "N6yB3vnuNxiW",
        "outputId": "fdaf5131-b91b-41d5-fb47-4ef9d9c39248"
      },
      "source": [
        "!python app.py"
      ],
      "execution_count": 17,
      "outputs": [
        {
          "output_type": "stream",
          "text": [
            "  File \"app.py\", line 25\n",
            "    tilewidth = 50\n",
            "            ^\n",
            "SyntaxError: invalid syntax\n"
          ],
          "name": "stdout"
        }
      ]
    },
    {
      "cell_type": "markdown",
      "metadata": {
        "id": "NnL0quWGQOJb"
      },
      "source": [
        "#Circos"
      ]
    },
    {
      "cell_type": "code",
      "metadata": {
        "id": "U7w5NdiyQiC4"
      },
      "source": [
        "%%writefile app2.py\n",
        "\n",
        "import json\n",
        "import six.moves.urllib.request as urlreq\n",
        "from six import PY3\n",
        "\n",
        "import dash\n",
        "import dash_bio as dashbio\n",
        "import dash_html_components as html\n",
        "import dash_core_components as dcc\n",
        "\n",
        "\n",
        "external_stylesheets = ['https://codepen.io/chriddyp/pen/bWLwgP.css']\n",
        "\n",
        "app = dash.Dash(__name__, external_stylesheets=external_stylesheets)\n",
        "\n",
        "data = urlreq.urlopen(\n",
        "    'https://raw.githubusercontent.com/plotly/dash-bio-docs-files/master/' +\n",
        "    'circos_graph_data.json'\n",
        ").read()\n",
        "\n",
        "if PY3:\n",
        "    data = data.decode('utf-8')\n",
        "\n",
        "circos_graph_data = json.loads(data)\n",
        "\n",
        "app.layout = html.Div([\n",
        "    dashbio.Circos(\n",
        "        id='my-dashbio-circos',\n",
        "        layout=circos_graph_data['GRCh37'],\n",
        "        selectEvent={\"0\": \"hover\", \"1\": \"click\", \"2\": \"both\"},\n",
        "        tracks=[{\n",
        "            'type': 'CHORDS',\n",
        "            'data': circos_graph_data['chords'],\n",
        "            'config': {\n",
        "                'tooltipContent': {\n",
        "                    'source': 'source',\n",
        "                    'sourceID': 'id',\n",
        "                    'target': 'target',\n",
        "                    'targetID': 'id',\n",
        "                    'targetEnd': 'end'\n",
        "                }\n",
        "            }\n",
        "        }]\n",
        "    ),\n",
        "    \"Graph type:\",\n",
        "    dcc.Dropdown(\n",
        "        id='histogram-chords',\n",
        "        options=[\n",
        "            {'label': x, 'value': x}\n",
        "            for x in ['histogram', 'chords']\n",
        "        ],\n",
        "        value='chords'\n",
        "    ),\n",
        "    \"Event data:\",\n",
        "    html.Div(id='circos-output')\n",
        "])\n",
        "\n",
        "\n",
        "@app.callback(\n",
        "    dash.dependencies.Output('circos-output', 'children'),\n",
        "    [dash.dependencies.Input('my-dashbio-circos', 'eventDatum')]\n",
        ")\n",
        "def update_output(value):\n",
        "    if value is not None:\n",
        "        return [html.Div('{}: {}'.format(v.title(), value[v]))\n",
        "                for v in value.keys()]\n",
        "    return 'There are no event data. Click or hover on a data point to get more information.'\n",
        "\n",
        "\n",
        "@app.callback(\n",
        "    dash.dependencies.Output('my-dashbio-circos', 'tracks'),\n",
        "    [dash.dependencies.Input('histogram-chords', 'value')],\n",
        "    state=[dash.dependencies.State('my-dashbio-circos', 'tracks')]\n",
        ")\n",
        "def change_graph_type(value, current):\n",
        "\n",
        "    if value == 'histogram':\n",
        "\n",
        "        current[0].update(\n",
        "            data=circos_graph_data['histogram'],\n",
        "            type='HISTOGRAM'\n",
        "        )\n",
        "\n",
        "    elif value == 'chords':\n",
        "        current[0].update(\n",
        "            data=circos_graph_data['chords'],\n",
        "            type='CHORDS',\n",
        "            config={\n",
        "                'tooltipContent': {\n",
        "                    'source': 'source',\n",
        "                    'sourceID': 'id',\n",
        "                    'target': 'target',\n",
        "                    'targetID': 'id',\n",
        "                    'targetEnd': 'end'\n",
        "                }\n",
        "            }\n",
        "        )\n",
        "    return current\n",
        "\n",
        "\n",
        "if __name__ == '__main__':\n",
        "    app.run_server(debug=True)"
      ],
      "execution_count": null,
      "outputs": []
    },
    {
      "cell_type": "code",
      "metadata": {
        "id": "Hxm09KmgQrgP"
      },
      "source": [
        "get_ipython().system_raw('./ngrok http 8050 &')"
      ],
      "execution_count": null,
      "outputs": []
    },
    {
      "cell_type": "code",
      "metadata": {
        "id": "L1oEPsoyQr-P"
      },
      "source": [
        "%%sh\n",
        "# get url with ngrok\n",
        "curl -s http://localhost:4040/api/tunnels | python3 -c \"import sys, json; print(json.load(sys.stdin)['tunnels'][0]['public_url'])\""
      ],
      "execution_count": null,
      "outputs": []
    },
    {
      "cell_type": "code",
      "metadata": {
        "id": "IxXlkZRBQuxO"
      },
      "source": [
        "!python app2.py"
      ],
      "execution_count": null,
      "outputs": []
    },
    {
      "cell_type": "markdown",
      "metadata": {
        "id": "LZmd3CRTQzRn"
      },
      "source": [
        "#OncoPrint"
      ]
    },
    {
      "cell_type": "code",
      "metadata": {
        "colab": {
          "base_uri": "https://localhost:8080/"
        },
        "id": "i4-5Qtj3SBdI",
        "outputId": "2ea238ec-7c14-4c02-a039-df1599659d9b"
      },
      "source": [
        "%%writefile app3.py\n",
        "\n",
        "import json\n",
        "import six.moves.urllib.request as urlreq\n",
        "from six import PY3\n",
        "\n",
        "import dash\n",
        "import dash_bio as dashbio\n",
        "import dash_html_components as html\n",
        "\n",
        "\n",
        "external_stylesheets = ['https://codepen.io/chriddyp/pen/bWLwgP.css']\n",
        "\n",
        "app = dash.Dash(__name__, external_stylesheets=external_stylesheets)\n",
        "\n",
        "data = urlreq.urlopen(\n",
        "    'https://raw.githubusercontent.com/plotly/dash-bio-docs-files/master/' +\n",
        "    'oncoprint_dataset3.json'\n",
        ").read()\n",
        "\n",
        "if PY3:\n",
        "    data = data.decode('utf-8')\n",
        "\n",
        "data = json.loads(data)\n",
        "\n",
        "app.layout = html.Div([\n",
        "    dashbio.OncoPrint(\n",
        "        id='my-dashbio-oncoprint',\n",
        "        data=data\n",
        "    ),\n",
        "    html.Div(id='oncoprint-output')\n",
        "])\n",
        "\n",
        "\n",
        "@app.callback(\n",
        "    dash.dependencies.Output('oncoprint-output', 'children'),\n",
        "    [dash.dependencies.Input('my-dashbio-oncoprint', 'eventDatum')]\n",
        ")\n",
        "def update_output(event_data):\n",
        "    if event_data is None or len(event_data) == 0:\n",
        "        return 'There are no event data. Hover over or click on a part \\\n",
        "        of the graph to generate event data.'\n",
        "\n",
        "    event_data = json.loads(event_data)\n",
        "\n",
        "    return [\n",
        "        html.Div('{}: {}'.format(\n",
        "            key,\n",
        "            str(event_data[key]).replace('<br>', '\\n')\n",
        "        ))\n",
        "        for key in event_data.keys()]\n",
        "\n",
        "\n",
        "if __name__ == '__main__':\n",
        "    app.run_server(debug=True)"
      ],
      "execution_count": 18,
      "outputs": [
        {
          "output_type": "stream",
          "text": [
            "Writing app3.py\n"
          ],
          "name": "stdout"
        }
      ]
    },
    {
      "cell_type": "code",
      "metadata": {
        "id": "7fAcWhjeSEim"
      },
      "source": [
        "get_ipython().system_raw('./ngrok http 8050 &')"
      ],
      "execution_count": 19,
      "outputs": []
    },
    {
      "cell_type": "code",
      "metadata": {
        "colab": {
          "base_uri": "https://localhost:8080/"
        },
        "id": "S2konD1iSKq1",
        "outputId": "d9cb2093-38af-4fd0-839f-9bc1bb47501a"
      },
      "source": [
        "%%sh\n",
        "# get url with ngrok\n",
        "curl -s http://localhost:4040/api/tunnels | python3 -c \"import sys, json; print(json.load(sys.stdin)['tunnels'][0]['public_url'])\""
      ],
      "execution_count": 20,
      "outputs": [
        {
          "output_type": "stream",
          "text": [
            "https://ccfc0c6293e7.ngrok.io\n"
          ],
          "name": "stdout"
        }
      ]
    },
    {
      "cell_type": "code",
      "metadata": {
        "colab": {
          "base_uri": "https://localhost:8080/"
        },
        "id": "-87tOspSSMcT",
        "outputId": "071e34cc-f3df-4f5a-bc78-039109ee9f2b"
      },
      "source": [
        "!python app3.py"
      ],
      "execution_count": 21,
      "outputs": [
        {
          "output_type": "stream",
          "text": [
            "Running on http://127.0.0.1:8050/\n",
            "Debugger PIN: 211-640-605\n",
            " * Serving Flask app \"app3\" (lazy loading)\n",
            " * Environment: production\n",
            "\u001b[31m   WARNING: This is a development server. Do not use it in a production deployment.\u001b[0m\n",
            "\u001b[2m   Use a production WSGI server instead.\u001b[0m\n",
            " * Debug mode: on\n",
            "Running on http://127.0.0.1:8050/\n",
            "Debugger PIN: 759-792-970\n"
          ],
          "name": "stdout"
        }
      ]
    }
  ]
}