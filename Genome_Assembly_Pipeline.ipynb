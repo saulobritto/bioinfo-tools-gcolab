{
  "nbformat": 4,
  "nbformat_minor": 0,
  "metadata": {
    "colab": {
      "name": "Genome Assembly Pipeline.ipynb",
      "provenance": [],
      "collapsed_sections": [],
      "toc_visible": true,
      "mount_file_id": "1J0rZkucGUMFNIw4ZmV8OLRdlo7PSR54O",
      "authorship_tag": "ABX9TyPLP/RufXa0hjPlz8hWvQrt",
      "include_colab_link": true
    },
    "kernelspec": {
      "display_name": "Python 3",
      "name": "python3"
    }
  },
  "cells": [
    {
      "cell_type": "markdown",
      "metadata": {
        "id": "view-in-github",
        "colab_type": "text"
      },
      "source": [
        "<a href=\"https://colab.research.google.com/github/saulobritto/bioinfo-tools-gcolab/blob/main/Genome_Assembly_Pipeline.ipynb\" target=\"_parent\"><img src=\"https://colab.research.google.com/assets/colab-badge.svg\" alt=\"Open In Colab\"/></a>"
      ]
    },
    {
      "cell_type": "markdown",
      "metadata": {
        "id": "rPvDY9PDBLN-"
      },
      "source": [
        "#Pipeline for sequencing analysis, genome assembly and assembly analysis\n",
        "\n",
        "\n",
        "---\n",
        "Author:\n",
        "\n",
        "* Saulo Britto da Silva\n",
        " * saulobdasilva@gmail.com\n",
        " * https://github.com/saulobritto\n",
        "\n",
        "Last update: 08 Jan. 2021\n",
        "\n",
        "\n",
        ">Test pipeline developed to analyze the sequencing files, perform the assemblies and analyze the assemblies quality.\n",
        "\n",
        "---\n"
      ]
    },
    {
      "cell_type": "markdown",
      "metadata": {
        "id": "aRb1GSpbjGk8"
      },
      "source": [
        "#Installing dependencies"
      ]
    },
    {
      "cell_type": "code",
      "metadata": {
        "id": "um1NUcwWmwjx"
      },
      "source": [
        "#Prokka\n",
        "!sudo apt-get install libdatetime-perl libxml-simple-perl libdigest-md5-perl git default-jre bioperl\n",
        "!sudo cpan Bio::Perl\n",
        "!git clone https://github.com/tseemann/prokka.git $HOME/prokka"
      ],
      "execution_count": null,
      "outputs": []
    },
    {
      "cell_type": "code",
      "metadata": {
        "id": "VV41yjvGn4ki"
      },
      "source": [
        "#Prokka Correction makeblastdb\n",
        "!rm '/usr/bin/makeblastdb'"
      ],
      "execution_count": null,
      "outputs": []
    },
    {
      "cell_type": "code",
      "metadata": {
        "id": "yBqVdd3nnecC"
      },
      "source": [
        "#Prokka DataBase\n",
        "!/root/prokka/bin/prokka --setupdb"
      ],
      "execution_count": null,
      "outputs": []
    },
    {
      "cell_type": "code",
      "metadata": {
        "colab": {
          "background_save": true
        },
        "id": "aXIGwXHljFjq"
      },
      "source": [
        "#FastQC\n",
        "!sudo apt install fastqc"
      ],
      "execution_count": null,
      "outputs": []
    },
    {
      "cell_type": "code",
      "metadata": {
        "id": "9P__stOZjP_A"
      },
      "source": [
        "#SPAdes\n",
        "!wget http://cab.spbu.ru/files/release3.14.1/SPAdes-3.14.1-Linux.tar.gz\n",
        "!tar -xzf SPAdes-3.14.1-Linux.tar.gz"
      ],
      "execution_count": null,
      "outputs": []
    },
    {
      "cell_type": "code",
      "metadata": {
        "id": "-cF2W6Ubj6-N"
      },
      "source": [
        "#Edena\n",
        "!wget http://www.genomic.ch/edena/EdenaV3.131028.tar.gz\n",
        "!tar -xzf EdenaV3.131028.tar.gz\n",
        "%cd '/content/EdenaV3.131028'\n",
        "!make\n",
        "%cd .."
      ],
      "execution_count": null,
      "outputs": []
    },
    {
      "cell_type": "code",
      "metadata": {
        "id": "S-iEB8o8pFQZ"
      },
      "source": [
        "#QUAST\n",
        "!sudo apt-get update && sudo apt-get install -y pkg-config libfreetype6-dev libpng-dev python3-matplotlib\n",
        "!git clone https://github.com/ablab/quast\n",
        "%cd /content/quast\n",
        "!./setup.py install\n",
        "%cd .."
      ],
      "execution_count": null,
      "outputs": []
    },
    {
      "cell_type": "code",
      "metadata": {
        "id": "-xBr0qCAvY-b"
      },
      "source": [
        "#CONTIGuator\n",
        "!git clone https://github.com/combogenomics/CONTIGuator"
      ],
      "execution_count": null,
      "outputs": []
    },
    {
      "cell_type": "code",
      "metadata": {
        "id": "PPwPb8Q0vOAo"
      },
      "source": [
        "#If needed, upload your sequencing files (you have the option to put these files direct into your Google Drive)\n",
        "from google.colab import files\n",
        "files.upload()"
      ],
      "execution_count": null,
      "outputs": []
    },
    {
      "cell_type": "code",
      "metadata": {
        "id": "6gq53_kBjsee"
      },
      "source": [
        "#Connecting your Google Drive to this notebook if your files are already there\n",
        "from google.colab import drive\n",
        "drive.mount('/content/drive')"
      ],
      "execution_count": null,
      "outputs": []
    },
    {
      "cell_type": "markdown",
      "metadata": {
        "id": "OOs6NBv1WJIU"
      },
      "source": [
        "#FastQC"
      ]
    },
    {
      "cell_type": "code",
      "metadata": {
        "id": "otX7rHCiVTlM"
      },
      "source": [
        "!fastqc 'file-path'"
      ],
      "execution_count": null,
      "outputs": []
    },
    {
      "cell_type": "markdown",
      "metadata": {
        "id": "4ffMtJOMSBPI"
      },
      "source": [
        "An .HTML file was created in the same folder as the analyzed file. Just go to the site and download it to view the analysis."
      ]
    },
    {
      "cell_type": "markdown",
      "metadata": {
        "id": "NAtSP43ayMFM"
      },
      "source": [
        "# Genome Assembly using SPAdes\n"
      ]
    },
    {
      "cell_type": "code",
      "metadata": {
        "id": "ZnYcc-fTyakc"
      },
      "source": [
        "#installation test\n",
        "!/content/SPAdes-3.14.1-Linux/bin/spades.py --test"
      ],
      "execution_count": null,
      "outputs": []
    },
    {
      "cell_type": "code",
      "metadata": {
        "id": "p3ZwSD8jHbLo"
      },
      "source": [
        "#Delete the # in your chose option to use it\n",
        "\n",
        "#With several K-mer  \n",
        "#!/content/SPAdes-3.14.1-Linux/bin/spades.py -k 111,121,127 --careful -1 B_longum_1.fastq -2 B_longum_2.fastq -o spades_output\n",
        "#!/content/SPAdes-3.14.1-Linux/bin/spades.py -k 111,121,127 --careful -1 'file-1-path' -2 'file-2-path' -o spades_output \n",
        "\n",
        "#With only 1 k-mer \n",
        "#!/content/SPAdes-3.14.1-Linux/bin/spades.py -k 121 --careful -1 B_longum_1.fastq -2 B_longum_2.fastq -o spades_output\n",
        "#!/content/SPAdes-3.14.1-Linux/bin/spades.py -k 121 --careful -1 'file-1-path' -2 'file-2-path' -o spades_output "
      ],
      "execution_count": null,
      "outputs": []
    },
    {
      "cell_type": "markdown",
      "metadata": {
        "id": "hEmUfeUVVOFF"
      },
      "source": [
        "#Edena"
      ]
    },
    {
      "cell_type": "code",
      "metadata": {
        "id": "yJ2FTJmAX43Z"
      },
      "source": [
        "#/content/EdenaV3.131028/bin/edena -nThreads <threads_number> -paired <file_1.fastq> <file_2.fastq> -p <output_file>\n",
        "\n",
        "!/content/EdenaV3.131028/bin/edena -nThreads 8 -paired 'file-1-path 'file-2-path' -p output_file"
      ],
      "execution_count": null,
      "outputs": []
    },
    {
      "cell_type": "code",
      "metadata": {
        "id": "b_o3TcxvfheX"
      },
      "source": [
        " #/content/EdenaV3.131028/bin/edena -e <file.ovl> -p <output_file> -nThreads <threads_number>\n",
        " \n",
        " !/content/EdenaV3.131028/bin/edena -e 'file.ovl' -p output_file -nThreads 8"
      ],
      "execution_count": null,
      "outputs": []
    },
    {
      "cell_type": "markdown",
      "metadata": {
        "id": "6uVHrnWxSDkh"
      },
      "source": [
        "#QUAST\n",
        "\n"
      ]
    },
    {
      "cell_type": "code",
      "metadata": {
        "id": "VwWPwpI1ZJA7"
      },
      "source": [
        "!./quast.py -R [reference_genome.fasta] -m 0 [edena_assembly] [spades_assembly]"
      ],
      "execution_count": null,
      "outputs": []
    },
    {
      "cell_type": "code",
      "metadata": {
        "id": "n7bG6sgMZV7A"
      },
      "source": [
        "import IPython\n",
        "\n",
        "display(IPython.display.HTML('QUAST_output_file.html'))"
      ],
      "execution_count": null,
      "outputs": []
    },
    {
      "cell_type": "markdown",
      "metadata": {
        "id": "upqLDAGvv9dB"
      },
      "source": [
        "#CONTIGuator"
      ]
    },
    {
      "cell_type": "code",
      "metadata": {
        "id": "Xg0DSW00v_UW"
      },
      "source": [
        "!python /content/CONTIGuator.py -r references.fna -c contigs.fna"
      ],
      "execution_count": null,
      "outputs": []
    },
    {
      "cell_type": "markdown",
      "metadata": {
        "id": "z9k9cbhdqOaC"
      },
      "source": [
        "#Prokka"
      ]
    },
    {
      "cell_type": "code",
      "metadata": {
        "id": "jfvdLqLDqSbP"
      },
      "source": [
        "# Vanilla (but with free toppings)\n",
        "!prokka contigs.fa"
      ],
      "execution_count": null,
      "outputs": []
    }
  ]
}