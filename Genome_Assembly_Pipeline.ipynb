{
  "nbformat": 4,
  "nbformat_minor": 0,
  "metadata": {
    "colab": {
      "name": "Genome Assembly Pipeline.ipynb",
      "provenance": [],
      "collapsed_sections": [
        "OOs6NBv1WJIU",
        "NAtSP43ayMFM",
        "hEmUfeUVVOFF",
        "eyM_yCERQidj",
        "6uVHrnWxSDkh",
        "upqLDAGvv9dB"
      ],
      "toc_visible": true,
      "mount_file_id": "1J0rZkucGUMFNIw4ZmV8OLRdlo7PSR54O",
      "authorship_tag": "ABX9TyPAtBLop/ZEsKSL1Uu6SRPz",
      "include_colab_link": true
    },
    "kernelspec": {
      "display_name": "Python 3",
      "name": "python3"
    }
  },
  "cells": [
    {
      "cell_type": "markdown",
      "metadata": {
        "id": "view-in-github",
        "colab_type": "text"
      },
      "source": [
        "<a href=\"https://colab.research.google.com/github/saulobritto/bioinfo-tools-gcolab/blob/main/Genome_Assembly_Pipeline.ipynb\" target=\"_parent\"><img src=\"https://colab.research.google.com/assets/colab-badge.svg\" alt=\"Open In Colab\"/></a>"
      ]
    },
    {
      "cell_type": "markdown",
      "metadata": {
        "id": "rPvDY9PDBLN-"
      },
      "source": [
        "#Pipeline para análise de sequenciamento, montagem de genomas e análise da montagem\n",
        "\n",
        "\n",
        "---\n",
        "**Pipeline desenvolvida por Saulo Britto da Silva**\n",
        "\n",
        "*Última atualização no dia 23.11.2020*\n",
        "\n",
        ">Pipeline teste desenvolvida para analisar os arquivos de sequenciamento, realizar as montagens e analisar a qualidade das montagens.\n",
        "\n",
        "---\n"
      ]
    },
    {
      "cell_type": "code",
      "metadata": {
        "id": "PPwPb8Q0vOAo"
      },
      "source": [
        "#Caso precise, faça upload dos arquivos de sequenciamento\n",
        "from google.colab import files\n",
        "files.upload()"
      ],
      "execution_count": null,
      "outputs": []
    },
    {
      "cell_type": "markdown",
      "metadata": {
        "id": "aRb1GSpbjGk8"
      },
      "source": [
        "#Installing dependencies"
      ]
    },
    {
      "cell_type": "code",
      "metadata": {
        "id": "um1NUcwWmwjx"
      },
      "source": [
        "#Prokka\n",
        "!sudo apt-get install libdatetime-perl libxml-simple-perl libdigest-md5-perl git default-jre bioperl\n",
        "!sudo cpan Bio::Perl\n",
        "!git clone https://github.com/tseemann/prokka.git $HOME/prokka"
      ],
      "execution_count": null,
      "outputs": []
    },
    {
      "cell_type": "code",
      "metadata": {
        "id": "VV41yjvGn4ki"
      },
      "source": [
        "#Prokka Correction makeblastdb\n",
        "!rm '/usr/bin/makeblastdb'"
      ],
      "execution_count": null,
      "outputs": []
    },
    {
      "cell_type": "code",
      "metadata": {
        "id": "yBqVdd3nnecC"
      },
      "source": [
        "#Prokka DataBase\n",
        "!/root/prokka/bin/prokka --setupdb"
      ],
      "execution_count": null,
      "outputs": []
    },
    {
      "cell_type": "code",
      "metadata": {
        "colab": {
          "background_save": true
        },
        "id": "aXIGwXHljFjq"
      },
      "source": [
        "#FastQC\n",
        "!sudo apt install fastqc"
      ],
      "execution_count": null,
      "outputs": []
    },
    {
      "cell_type": "code",
      "metadata": {
        "id": "9P__stOZjP_A"
      },
      "source": [
        "#SPAdes\n",
        "!wget http://cab.spbu.ru/files/release3.14.1/SPAdes-3.14.1-Linux.tar.gz\n",
        "!tar -xzf SPAdes-3.14.1-Linux.tar.gz"
      ],
      "execution_count": null,
      "outputs": []
    },
    {
      "cell_type": "code",
      "metadata": {
        "id": "-cF2W6Ubj6-N"
      },
      "source": [
        "#Edena\n",
        "!wget http://www.genomic.ch/edena/EdenaV3.131028.tar.gz\n",
        "!tar -xzf EdenaV3.131028.tar.gz\n",
        "%cd '/content/EdenaV3.131028'\n",
        "!make\n",
        "%cd .."
      ],
      "execution_count": null,
      "outputs": []
    },
    {
      "cell_type": "code",
      "metadata": {
        "id": "S-iEB8o8pFQZ"
      },
      "source": [
        "#QUAST\n",
        "!sudo apt-get update && sudo apt-get install -y pkg-config libfreetype6-dev libpng-dev python3-matplotlib\n",
        "!git clone https://github.com/ablab/quast\n",
        "%cd /content/quast\n",
        "!./setup.py install\n",
        "%cd .."
      ],
      "execution_count": null,
      "outputs": []
    },
    {
      "cell_type": "code",
      "metadata": {
        "id": "-xBr0qCAvY-b"
      },
      "source": [
        "#CONTIGuator\n",
        "!git clone https://github.com/combogenomics/CONTIGuator"
      ],
      "execution_count": null,
      "outputs": []
    },
    {
      "cell_type": "code",
      "metadata": {
        "id": "6gq53_kBjsee"
      },
      "source": [
        "#Conectando o Google Drive à Pipeline caso os arquivos estejam no GDrive\n",
        "from google.colab import drive\n",
        "drive.mount('/content/drive')"
      ],
      "execution_count": null,
      "outputs": []
    },
    {
      "cell_type": "markdown",
      "metadata": {
        "id": "OOs6NBv1WJIU"
      },
      "source": [
        "#FastQC"
      ]
    },
    {
      "cell_type": "code",
      "metadata": {
        "id": "otX7rHCiVTlM"
      },
      "source": [
        "!fastqc 'caminho para arquivo'"
      ],
      "execution_count": null,
      "outputs": []
    },
    {
      "cell_type": "markdown",
      "metadata": {
        "id": "4ffMtJOMSBPI"
      },
      "source": [
        "Um arquivo .html foi criado na mesma pasta do arquivo analisado. Basta ir até o local e baixá-lo para visualizar a análise."
      ]
    },
    {
      "cell_type": "markdown",
      "metadata": {
        "id": "NAtSP43ayMFM"
      },
      "source": [
        "# Genome Assembly using SPAdes\n"
      ]
    },
    {
      "cell_type": "code",
      "metadata": {
        "id": "ZnYcc-fTyakc"
      },
      "source": [
        "#testando a instalação\n",
        "!/content/SPAdes-3.14.1-Linux/bin/spades.py --test"
      ],
      "execution_count": null,
      "outputs": []
    },
    {
      "cell_type": "code",
      "metadata": {
        "id": "p3ZwSD8jHbLo"
      },
      "source": [
        "#Retirar  a # da opção escolhida\n",
        "\n",
        "#Com vários K-mer  \n",
        "#!/content/SPAdes-3.14.1-Linux/bin/spades.py -k 111,121,127 --careful -1 B_longum_1.fastq -2 B_longum_2.fastq -o spades_output\n",
        "#!/content/SPAdes-3.14.1-Linux/bin/spades.py -k 111,121,127 --careful -1 'caminho arquivo 1' -2 'caminho arquivo 2' -o spades_output \n",
        "\n",
        "#Com apenas 1 k-mer \n",
        "#!/content/SPAdes-3.14.1-Linux/bin/spades.py -k 121 --careful -1 B_longum_1.fastq -2 B_longum_2.fastq -o spades_output\n",
        "#!/content/SPAdes-3.14.1-Linux/bin/spades.py -k 121 --careful -1 'caminho arquivo 1' -2 'caminho arquivo 2' -o spades_output "
      ],
      "execution_count": null,
      "outputs": []
    },
    {
      "cell_type": "markdown",
      "metadata": {
        "id": "hEmUfeUVVOFF"
      },
      "source": [
        "#Edena"
      ]
    },
    {
      "cell_type": "code",
      "metadata": {
        "id": "yJ2FTJmAX43Z"
      },
      "source": [
        "#/content/EdenaV3.131028/bin/edena -nThreads <número_de_threads> -paired <arquivo_1.fastq> <arquivo_2.fastq> -p <nome_desejado_para_saída>\n",
        "\n",
        "!/content/EdenaV3.131028/bin/edena -nThreads 8 -paired 'caminho arquivo 1' 'caminho arquivo 2' -p output_file"
      ],
      "execution_count": null,
      "outputs": []
    },
    {
      "cell_type": "code",
      "metadata": {
        "id": "b_o3TcxvfheX"
      },
      "source": [
        " #/content/EdenaV3.131028/bin/edena -e <arquivo.ovl> -p <nome_desejado_para_saída> -nThreads <número_de_threads>\n",
        " \n",
        " !/content/EdenaV3.131028/bin/edena -e 'arquivo.ovl' -p output_file -nThreads 8"
      ],
      "execution_count": null,
      "outputs": []
    },
    {
      "cell_type": "markdown",
      "metadata": {
        "id": "6uVHrnWxSDkh"
      },
      "source": [
        "#QUAST\n",
        "\n"
      ]
    },
    {
      "cell_type": "code",
      "metadata": {
        "id": "VwWPwpI1ZJA7"
      },
      "source": [
        "!./quast.py -R [genoma_referencia.fasta] -m 0 [montagem do edena] [montagem do spades]"
      ],
      "execution_count": null,
      "outputs": []
    },
    {
      "cell_type": "code",
      "metadata": {
        "id": "n7bG6sgMZV7A"
      },
      "source": [
        "import IPython\n",
        "\n",
        "display(IPython.display.HTML('QUAST_output_file.html'))"
      ],
      "execution_count": null,
      "outputs": []
    },
    {
      "cell_type": "markdown",
      "metadata": {
        "id": "upqLDAGvv9dB"
      },
      "source": [
        "#CONTIGuator"
      ]
    },
    {
      "cell_type": "code",
      "metadata": {
        "id": "Xg0DSW00v_UW"
      },
      "source": [
        "!python /content/CONTIGuator.py -r references.fna -c contigs.fna"
      ],
      "execution_count": null,
      "outputs": []
    },
    {
      "cell_type": "markdown",
      "metadata": {
        "id": "z9k9cbhdqOaC"
      },
      "source": [
        "#Prokka"
      ]
    },
    {
      "cell_type": "code",
      "metadata": {
        "id": "jfvdLqLDqSbP"
      },
      "source": [
        "# Vanilla (but with free toppings)\n",
        "!prokka contigs.fa"
      ],
      "execution_count": null,
      "outputs": []
    }
  ]
}