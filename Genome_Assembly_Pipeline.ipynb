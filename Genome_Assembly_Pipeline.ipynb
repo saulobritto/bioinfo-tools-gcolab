{
  "nbformat": 4,
  "nbformat_minor": 0,
  "metadata": {
    "colab": {
      "name": "Genome Assembly Pipeline.ipynb",
      "provenance": [],
      "collapsed_sections": [
        "OOs6NBv1WJIU",
        "NAtSP43ayMFM",
        "hEmUfeUVVOFF",
        "eyM_yCERQidj",
        "6uVHrnWxSDkh",
        "upqLDAGvv9dB"
      ],
      "toc_visible": true,
      "mount_file_id": "1J0rZkucGUMFNIw4ZmV8OLRdlo7PSR54O",
      "authorship_tag": "ABX9TyNHFeXOmGHHfZYeUc2XIMk5",
      "include_colab_link": true
    },
    "kernelspec": {
      "display_name": "Python 3",
      "name": "python3"
    }
  },
  "cells": [
    {
      "cell_type": "markdown",
      "metadata": {
        "id": "view-in-github",
        "colab_type": "text"
      },
      "source": [
        "<a href=\"https://colab.research.google.com/github/saulobritto/bioinfo-tools-gcolab/blob/main/Genome_Assembly_Pipeline.ipynb\" target=\"_parent\"><img src=\"https://colab.research.google.com/assets/colab-badge.svg\" alt=\"Open In Colab\"/></a>"
      ]
    },
    {
      "cell_type": "markdown",
      "metadata": {
        "id": "rPvDY9PDBLN-"
      },
      "source": [
        "#Pipeline para análise de sequenciamento, montagem de genomas e análise da montagem\n",
        "\n",
        "\n",
        "---\n",
        "**Pipeline desenvolvida por Saulo Britto da Silva**\n",
        "\n",
        "*Última atualização no dia 23.11.2020*\n",
        "\n",
        ">Pipeline teste desenvolvida para analisar os arquivos de sequenciamento, realizar as montagens e analisar a qualidade das montagens.\n",
        "\n",
        "---\n"
      ]
    },
    {
      "cell_type": "code",
      "metadata": {
        "colab": {
          "resources": {
            "http://localhost:8080/nbextensions/google.colab/files.js": {
              "data": "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",
              "headers": [
                [
                  "content-type",
                  "application/javascript"
                ]
              ],
              "ok": true,
              "status": 200,
              "status_text": "OK"
            }
          },
          "base_uri": "https://localhost:8080/",
          "height": 57
        },
        "id": "PPwPb8Q0vOAo",
        "outputId": "eefc2ce9-76ac-4ce7-c472-3ec45f78990d"
      },
      "source": [
        "from google.colab import files\n",
        "files.upload()"
      ],
      "execution_count": null,
      "outputs": [
        {
          "output_type": "display_data",
          "data": {
            "text/html": [
              "\n",
              "     <input type=\"file\" id=\"files-0fa969e8-ccfb-43e0-86ad-f55e26b6b551\" name=\"files[]\" multiple disabled\n",
              "        style=\"border:none\" />\n",
              "     <output id=\"result-0fa969e8-ccfb-43e0-86ad-f55e26b6b551\">\n",
              "      Upload widget is only available when the cell has been executed in the\n",
              "      current browser session. Please rerun this cell to enable.\n",
              "      </output>\n",
              "      <script src=\"/nbextensions/google.colab/files.js\"></script> "
            ],
            "text/plain": [
              "<IPython.core.display.HTML object>"
            ]
          },
          "metadata": {
            "tags": []
          }
        },
        {
          "output_type": "stream",
          "text": [
            "Saving SRR12012452.fastq to SRR12012452.fastq\n"
          ],
          "name": "stdout"
        }
      ]
    },
    {
      "cell_type": "markdown",
      "metadata": {
        "id": "aRb1GSpbjGk8"
      },
      "source": [
        "#Installing dependencies"
      ]
    },
    {
      "cell_type": "code",
      "metadata": {
        "id": "um1NUcwWmwjx"
      },
      "source": [
        "#Prokka\n",
        "!sudo apt-get install libdatetime-perl libxml-simple-perl libdigest-md5-perl git default-jre bioperl\n",
        "!sudo cpan Bio::Perl\n",
        "!git clone https://github.com/tseemann/prokka.git $HOME/prokka"
      ],
      "execution_count": null,
      "outputs": []
    },
    {
      "cell_type": "code",
      "metadata": {
        "id": "VV41yjvGn4ki"
      },
      "source": [
        "#Prokka Correction makeblastdb\n",
        "!rm '/usr/bin/makeblastdb'"
      ],
      "execution_count": null,
      "outputs": []
    },
    {
      "cell_type": "code",
      "metadata": {
        "id": "yBqVdd3nnecC"
      },
      "source": [
        "#Prokka DataBase\n",
        "!/root/prokka/bin/prokka --setupdb"
      ],
      "execution_count": null,
      "outputs": []
    },
    {
      "cell_type": "code",
      "metadata": {
        "colab": {
          "background_save": true
        },
        "id": "aXIGwXHljFjq"
      },
      "source": [
        "#FastQC\n",
        "!sudo apt install fastqc"
      ],
      "execution_count": null,
      "outputs": []
    },
    {
      "cell_type": "code",
      "metadata": {
        "id": "9P__stOZjP_A"
      },
      "source": [
        "#SPAdes\n",
        "!wget http://cab.spbu.ru/files/release3.14.1/SPAdes-3.14.1-Linux.tar.gz\n",
        "!tar -xzf SPAdes-3.14.1-Linux.tar.gz"
      ],
      "execution_count": null,
      "outputs": []
    },
    {
      "cell_type": "code",
      "metadata": {
        "id": "-cF2W6Ubj6-N"
      },
      "source": [
        "#Edena\n",
        "!wget http://www.genomic.ch/edena/EdenaV3.131028.tar.gz\n",
        "!tar -xzf EdenaV3.131028.tar.gz\n",
        "%cd '/content/EdenaV3.131028'\n",
        "!make\n",
        "%cd .."
      ],
      "execution_count": null,
      "outputs": []
    },
    {
      "cell_type": "code",
      "metadata": {
        "id": "HViwUewwldZY"
      },
      "source": [
        "#Unicycler\n",
        "!sudo apt-get update\n",
        "!sudo apt-get install gcc\n",
        "!sudo apt-get install make\n",
        "!sudo apt-get install libbz2-dev\n",
        "!sudo apt-get install zlib1g-dev\n",
        "!sudo apt-get install libncurses5-dev \n",
        "!sudo apt-get install libncursesw5-dev\n",
        "!sudo apt-get install liblzma-dev\n",
        "\n",
        "%cd /content/\n",
        "!wget https://github.com/samtools/htslib/releases/download/1.9/htslib-1.9.tar.bz2\n",
        "!tar -vxjf htslib-1.9.tar.bz2\n",
        "%cd htslib-1.9\n",
        "!make\n",
        "%cd ..\n",
        "!wget https://github.com/samtools/samtools/releases/download/1.9/samtools-1.9.tar.bz2\n",
        "!tar -vxjf samtools-1.9.tar.bz2\n",
        "%cd samtools-1.9\n",
        "!make\n",
        "%cd ..\n",
        "\n",
        "!git clone https://github.com/rrwick/Unicycler.git\n",
        "%cd Unicycler\n",
        "!python3 setup.py install\n",
        "%cd .."
      ],
      "execution_count": null,
      "outputs": []
    },
    {
      "cell_type": "code",
      "metadata": {
        "id": "S-iEB8o8pFQZ"
      },
      "source": [
        "#QUAST\n",
        "!sudo apt-get update && sudo apt-get install -y pkg-config libfreetype6-dev libpng-dev python3-matplotlib\n",
        "!git clone https://github.com/ablab/quast\n",
        "%cd /content/quast\n",
        "!./setup.py install\n",
        "%cd .."
      ],
      "execution_count": null,
      "outputs": []
    },
    {
      "cell_type": "code",
      "metadata": {
        "id": "-xBr0qCAvY-b"
      },
      "source": [
        "#CONTIGuator\n",
        "!git clone https://github.com/combogenomics/CONTIGuator"
      ],
      "execution_count": null,
      "outputs": []
    },
    {
      "cell_type": "code",
      "metadata": {
        "id": "6gq53_kBjsee"
      },
      "source": [
        "#Conectando o Google Drive à Pipeline\n",
        "from google.colab import drive\n",
        "drive.mount('/content/drive')"
      ],
      "execution_count": null,
      "outputs": []
    },
    {
      "cell_type": "markdown",
      "metadata": {
        "id": "OOs6NBv1WJIU"
      },
      "source": [
        "#FastQC"
      ]
    },
    {
      "cell_type": "code",
      "metadata": {
        "id": "otX7rHCiVTlM"
      },
      "source": [
        "!fastqc '/content/drive/My Drive/IC UFLA/Sequenciamento/B137_Bab30 - sequências e resultados para praticar/25292_2#137_1.fastq'"
      ],
      "execution_count": null,
      "outputs": []
    },
    {
      "cell_type": "markdown",
      "metadata": {
        "id": "4ffMtJOMSBPI"
      },
      "source": [
        "Um arquivo .html foi criado na mesma pasta do arquivo analisado. Basta ir até o local e baixá-lo para visualizar a análise."
      ]
    },
    {
      "cell_type": "markdown",
      "metadata": {
        "id": "NAtSP43ayMFM"
      },
      "source": [
        "# Genome Assembly using SPAdes\n"
      ]
    },
    {
      "cell_type": "code",
      "metadata": {
        "id": "ZnYcc-fTyakc"
      },
      "source": [
        "#testando a instalação\n",
        "!/content/SPAdes-3.14.1-Linux/bin/spades.py --test"
      ],
      "execution_count": null,
      "outputs": []
    },
    {
      "cell_type": "code",
      "metadata": {
        "id": "p3ZwSD8jHbLo"
      },
      "source": [
        "#Retirar  a # da opção escolhida\n",
        "\n",
        "#Com vários K-mer  \n",
        "#!/content/SPAdes-3.14.1-Linux/bin/spades.py -k 111,121,127 --careful -1 B_longum_1.fastq -2 B_longum_2.fastq -o spades_output\n",
        "#!/content/SPAdes-3.14.1-Linux/bin/spades.py -k 111,121,127 --careful -1 '/content/drive/My Drive/IC UFLA/Sequenciamento/B137_Bab30 - sequências e resultados para praticar/25292_2#137_1.fastq' -2 '/content/drive/My Drive/IC UFLA/Sequenciamento/B137_Bab30 - sequências e resultados para praticar/25292_2#137_2.fastq' -o spades_output \n",
        "\n",
        "#Com apenas 1 k-mer \n",
        "#!/content/SPAdes-3.14.1-Linux/bin/spades.py -k 121 --careful -1 B_longum_1.fastq -2 B_longum_2.fastq -o spades_output\n",
        "!/content/SPAdes-3.14.1-Linux/bin/spades.py -k 121 --careful -1 '/content/drive/My Drive/IC UFLA/Sequenciamento/B137_Bab30 - sequências e resultados para praticar/25292_2#137_1.fastq' -2 '/content/drive/My Drive/IC UFLA/Sequenciamento/B137_Bab30 - sequências e resultados para praticar/25292_2#137_2.fastq' -o spades_output "
      ],
      "execution_count": null,
      "outputs": []
    },
    {
      "cell_type": "markdown",
      "metadata": {
        "id": "hEmUfeUVVOFF"
      },
      "source": [
        "#Edena"
      ]
    },
    {
      "cell_type": "code",
      "metadata": {
        "id": "yJ2FTJmAX43Z"
      },
      "source": [
        "#/content/EdenaV3.131028/bin/edena -nThreads <número_de_threads> -paired <arquivo_1.fastq> <arquivo_2.fastq> -p <nome_desejado_para_saída>\n",
        "\n",
        "!/content/EdenaV3.131028/bin/edena -nThreads 8 -paired '/content/drive/My Drive/IC UFLA/Sequenciamento/B137_Bab30 - sequências e resultados para praticar/25292_2#137_1.fastq' '/content/drive/My Drive/IC UFLA/Sequenciamento/B137_Bab30 - sequências e resultados para praticar/25292_2#137_2.fastq' -p edena_bab30_2 "
      ],
      "execution_count": null,
      "outputs": []
    },
    {
      "cell_type": "code",
      "metadata": {
        "id": "b_o3TcxvfheX"
      },
      "source": [
        " #/content/EdenaV3.131028/bin/edena -e <arquivo.ovl> -p <nome_desejado_para_saída> -nThreads <número_de_threads>\n",
        " \n",
        " !/content/EdenaV3.131028/bin/edena -e '/content/EdenaV3.131028/edena_bab30_2.ovl' -p edena_bab30_final -nThreads 8"
      ],
      "execution_count": null,
      "outputs": []
    },
    {
      "cell_type": "markdown",
      "metadata": {
        "id": "eyM_yCERQidj"
      },
      "source": [
        "#Unicycler"
      ]
    },
    {
      "cell_type": "code",
      "metadata": {
        "id": "hQes1NJaRJBs"
      },
      "source": [
        "#/opt/Unicycler20180426/Unicycler/unicycler-runner.py --spades_path /opt/SPAdes-3.9.1-Linux/bin/spades.py --samtools_path /opt/samtools-1.8/samtools/samtools  --pilon_path /opt/pilon/pilon-1.22.jar -1 file_reads_foward -2 file_reads_reverse -o unicycler_results"
      ],
      "execution_count": null,
      "outputs": []
    },
    {
      "cell_type": "markdown",
      "metadata": {
        "id": "6uVHrnWxSDkh"
      },
      "source": [
        "#QUAST\n",
        "\n"
      ]
    },
    {
      "cell_type": "code",
      "metadata": {
        "id": "VwWPwpI1ZJA7"
      },
      "source": [
        "#!./quast.py -R [genoma_referencia.fasta] -m 0 [montagem do edena] [montagem do spades]  \n",
        "\n",
        "!/content/quast/quast.py -R '/content/drive/My Drive/IC UFLA/Genomas/prokka_Bab30_cro1/Bab30_cro1.fsa' -m 0 '/content/EdenaV3.131028/edena_bab30_final_contigs.fasta'"
      ],
      "execution_count": null,
      "outputs": []
    },
    {
      "cell_type": "code",
      "metadata": {
        "id": "n7bG6sgMZV7A"
      },
      "source": [
        "import IPython\n",
        "\n",
        "display(IPython.display.HTML('/content/EdenaV3.131028/quast/quast_results/results_2020_11_16_16_59_45/report.html'))"
      ],
      "execution_count": null,
      "outputs": []
    },
    {
      "cell_type": "markdown",
      "metadata": {
        "id": "upqLDAGvv9dB"
      },
      "source": [
        "#CONTIGuator"
      ]
    },
    {
      "cell_type": "code",
      "metadata": {
        "id": "Xg0DSW00v_UW"
      },
      "source": [
        "!python /content/CONTIGuator.py -r references.fna -c contigs.fna"
      ],
      "execution_count": null,
      "outputs": []
    },
    {
      "cell_type": "markdown",
      "metadata": {
        "id": "z9k9cbhdqOaC"
      },
      "source": [
        "#Prokka"
      ]
    },
    {
      "cell_type": "code",
      "metadata": {
        "id": "jfvdLqLDqSbP"
      },
      "source": [
        "# Vanilla (but with free toppings)\n",
        "!prokka contigs.fa"
      ],
      "execution_count": null,
      "outputs": []
    }
  ]
}