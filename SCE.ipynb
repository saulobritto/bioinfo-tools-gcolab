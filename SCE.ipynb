{
  "nbformat": 4,
  "nbformat_minor": 0,
  "metadata": {
    "colab": {
      "name": "SCE.ipynb",
      "provenance": [],
      "mount_file_id": "1dmkYY54426s01gAjqUU8rRwVWos6WOpT",
      "authorship_tag": "ABX9TyOmOTUrQUq9ir3pYd9VgO7d",
      "include_colab_link": true
    },
    "kernelspec": {
      "name": "python3",
      "display_name": "Python 3"
    }
  },
  "cells": [
    {
      "cell_type": "markdown",
      "metadata": {
        "id": "view-in-github",
        "colab_type": "text"
      },
      "source": [
        "<a href=\"https://colab.research.google.com/github/saulobritto/genome-assembly-gcolab/blob/main/SCE.ipynb\" target=\"_parent\"><img src=\"https://colab.research.google.com/assets/colab-badge.svg\" alt=\"Open In Colab\"/></a>"
      ]
    },
    {
      "cell_type": "markdown",
      "metadata": {
        "id": "aABZ4Xo7PO2j"
      },
      "source": [
        "#Search and Count Engine (SCE)\n",
        "\n",
        "---\n",
        "\n",
        "**Código desenvolvido por Saulo Britto da Silva**\n",
        "\n",
        "*Última atualização no dia 05.11.2020*\n",
        "\n",
        ">Programa para procurar uma palavra/termo em múltiplos arquivos em múltiplas pastas, retornando quantas vezes o termo aparece em cada arquivo e gerando um CSV da pesquisa, que pode ser baixado.\n",
        "\n",
        "---\n",
        "\n"
      ]
    },
    {
      "cell_type": "markdown",
      "metadata": {
        "id": "G9jybEZjyIJb"
      },
      "source": [
        "##Resultado para CSV\n",
        "\n",
        "---\n",
        "\n",
        "**Código desenvolvido por Saulo Britto da Silva**\n",
        "\n",
        "*Última atualização no dia 05.11.2020*\n",
        "\n",
        ">Programa para procurar uma palavra/termo em múltiplos arquivos em múltiplas pastas, retornando quantas vezes o termo aparece em cada arquivo e gerando um CSV da pesquisa, que pode ser baixado.\n",
        "\n",
        "---\n",
        "\n"
      ]
    },
    {
      "cell_type": "code",
      "metadata": {
        "id": "KzjTL0W0PI4j",
        "colab": {
          "base_uri": "https://localhost:8080/"
        },
        "outputId": "5db7d63f-678b-453c-f924-b6f1a31a04bf"
      },
      "source": [
        "#Execute esta célula para montar o drive (para o Colab ter acesso ao My Drive)\n",
        "from google.colab import drive\n",
        "drive.mount(\"/content/drive\")"
      ],
      "execution_count": null,
      "outputs": [
        {
          "output_type": "stream",
          "text": [
            "Mounted at /content/drive\n"
          ],
          "name": "stdout"
        }
      ]
    },
    {
      "cell_type": "markdown",
      "metadata": {
        "id": "pQ6Ac6_sbBfj"
      },
      "source": [
        "###Código Fonte\n",
        "\n",
        "\n",
        "---\n",
        "**Execute todas as células desta seção**\n",
        "\n",
        "Você pode realizar isto apenas clicando no botão executar, sem necessidade de abrir as células ocultas\n",
        "\n",
        "\n",
        "---\n",
        "\n"
      ]
    },
    {
      "cell_type": "code",
      "metadata": {
        "id": "Ep7TlcF9PVLl"
      },
      "source": [
        "#importando os pacotes necessários\n",
        "import os\n",
        "import pathlib\n",
        "import pandas as pd\n",
        "import numpy as np"
      ],
      "execution_count": null,
      "outputs": []
    },
    {
      "cell_type": "code",
      "metadata": {
        "id": "YHO1so0XPpOp"
      },
      "source": [
        "def sce(palavra, onde, tipo, saida):\n",
        "  string = [palavra]\n",
        "  x = []\n",
        "  files = list(pathlib.Path(onde).glob(\"**/*\"+tipo))\n",
        "  z = ['Arquivo', 'Palavra', 'Contagem']\n",
        "  for filename in files:\n",
        "    with open(filename, 'r') as f:\n",
        "        data = f.read()\n",
        "        for s in string:\n",
        "          p = os.path.basename(filename)\n",
        "          final = [p[:-4], s, data.count(s)]\n",
        "          x.append(final)\n",
        "  #cria duas tabelas referente à pesquisa em dois locais diferentes\n",
        "  n = pd.DataFrame(np.array(x), columns = z)\n",
        "  #cria o CSV\n",
        "  n.to_csv(saida+'.csv')\n",
        "  print(n)\n",
        "  info = pd.DataFrame.info(n)\n",
        "  print(info)\n",
        "  #Criando gráfico\n",
        "  n.groupby(['Contagem']).Contagem.count().plot(kind='bar', title='Quantidade de arquivos por contagem',legend='Contagem', xlabel='Contagem', ylabel='Quantidade de arquivos')\n",
        "  "
      ],
      "execution_count": null,
      "outputs": []
    },
    {
      "cell_type": "markdown",
      "metadata": {
        "id": "6T17_Cv2Zzu8"
      },
      "source": [
        "###Utilizando o código\n",
        "\n",
        "\n",
        "---\n",
        "**sce(palavra, onde, tipo, saida)**\n",
        "\n",
        "* palavra = palavra a ser procurada\n",
        "\n",
        "* onde = local onde o arquivo se encontra\n",
        "\n",
        "* tipo = tipo de arquivo a ser lido\n",
        "\n",
        "* saida = nome_arquivo_de_saida\n",
        "\n"
      ]
    },
    {
      "cell_type": "code",
      "metadata": {
        "id": "TTgaEd44RR59",
        "colab": {
          "base_uri": "https://localhost:8080/",
          "height": 751
        },
        "outputId": "1339f394-622e-4bdc-8b39-60cc84cab33f"
      },
      "source": [
        "sce('ExpA', '/content/drive/My Drive/IC UFLA/Genomas', 'gbk', 'teste')"
      ],
      "execution_count": null,
      "outputs": [
        {
          "output_type": "stream",
          "text": [
            "           Arquivo Palavra Contagem\n",
            "0       02_06_cro2    ExpA        0\n",
            "1         1.1_cro1    ExpA        0\n",
            "2       02_06_cro1    ExpA        0\n",
            "3         1.1_cro2    ExpA        0\n",
            "4    5_155_2M_cro1    ExpA        0\n",
            "..             ...     ...      ...\n",
            "101       SP9_cro1    ExpA        0\n",
            "102       SP9_cro2    ExpA        0\n",
            "103       SP8_cro2    ExpA        0\n",
            "104       SP8_cro1    ExpA        0\n",
            "105      SP10_cro2    ExpA        0\n",
            "\n",
            "[106 rows x 3 columns]\n",
            "<class 'pandas.core.frame.DataFrame'>\n",
            "RangeIndex: 106 entries, 0 to 105\n",
            "Data columns (total 3 columns):\n",
            " #   Column    Non-Null Count  Dtype \n",
            "---  ------    --------------  ----- \n",
            " 0   Arquivo   106 non-null    object\n",
            " 1   Palavra   106 non-null    object\n",
            " 2   Contagem  106 non-null    object\n",
            "dtypes: object(3)\n",
            "memory usage: 2.6+ KB\n",
            "None\n"
          ],
          "name": "stdout"
        },
        {
          "output_type": "display_data",
          "data": {
            "image/png": "[encoded data removed]",
            "text/plain": [
              "<Figure size 432x288 with 1 Axes>"
            ]
          },
          "metadata": {
            "tags": [],
            "needs_background": "light"
          }
        }
      ]
    },
    {
      "cell_type": "markdown",
      "metadata": {
        "id": "McOmykpBdMDK"
      },
      "source": [
        "###Download CSV gerado\n",
        "\n",
        "\n",
        "---\n",
        "Insira o 'nome_arquivo_de_saida.csv' abaixo\n"
      ]
    },
    {
      "cell_type": "code",
      "metadata": {
        "id": "FrAkTCjiYevm",
        "colab": {
          "base_uri": "https://localhost:8080/",
          "height": 17
        },
        "outputId": "572a2947-3cfb-4211-a708-dc3440f9fc92"
      },
      "source": [
        "from google.colab import files\n",
        "\n",
        "#Insira o nome da saida.csv para download\n",
        "files.download(\"NOME_ARQUIVO_DE_SAIDA.csv\")"
      ],
      "execution_count": null,
      "outputs": [
        {
          "output_type": "display_data",
          "data": {
            "application/javascript": [
              "\n",
              "    async function download(id, filename, size) {\n",
              "      if (!google.colab.kernel.accessAllowed) {\n",
              "        return;\n",
              "      }\n",
              "      const div = document.createElement('div');\n",
              "      const label = document.createElement('label');\n",
              "      label.textContent = `Downloading \"${filename}\": `;\n",
              "      div.appendChild(label);\n",
              "      const progress = document.createElement('progress');\n",
              "      progress.max = size;\n",
              "      div.appendChild(progress);\n",
              "      document.body.appendChild(div);\n",
              "\n",
              "      const buffers = [];\n",
              "      let downloaded = 0;\n",
              "\n",
              "      const channel = await google.colab.kernel.comms.open(id);\n",
              "      // Send a message to notify the kernel that we're ready.\n",
              "      channel.send({})\n",
              "\n",
              "      for await (const message of channel.messages) {\n",
              "        // Send a message to notify the kernel that we're ready.\n",
              "        channel.send({})\n",
              "        if (message.buffers) {\n",
              "          for (const buffer of message.buffers) {\n",
              "            buffers.push(buffer);\n",
              "            downloaded += buffer.byteLength;\n",
              "            progress.value = downloaded;\n",
              "          }\n",
              "        }\n",
              "      }\n",
              "      const blob = new Blob(buffers, {type: 'application/binary'});\n",
              "      const a = document.createElement('a');\n",
              "      a.href = window.URL.createObjectURL(blob);\n",
              "      a.download = filename;\n",
              "      div.appendChild(a);\n",
              "      a.click();\n",
              "      div.remove();\n",
              "    }\n",
              "  "
            ],
            "text/plain": [
              "<IPython.core.display.Javascript object>"
            ]
          },
          "metadata": {
            "tags": []
          }
        },
        {
          "output_type": "display_data",
          "data": {
            "application/javascript": [
              "download(\"download_3013dc45-7357-4445-a8f0-762167b289ed\", \"teste.csv\", 859)"
            ],
            "text/plain": [
              "<IPython.core.display.Javascript object>"
            ]
          },
          "metadata": {
            "tags": []
          }
        }
      ]
    },
    {
      "cell_type": "markdown",
      "metadata": {
        "id": "FtytVQ5YgEsJ"
      },
      "source": [
        "##Resultado para Google Sheets\n",
        "---\n",
        "\n",
        "**Código desenvolvido por Saulo Britto da Silva**\n",
        "\n",
        "*Última atualização no dia 05.11.2020*\n",
        "\n",
        ">Programa para procurar uma palavra/termo em múltiplos arquivos em múltiplas pastas, retornando quantas vezes o termo aparece em cada arquivo e gerando uma planilha do Google da pesquisa, que pode ser baixada/editada.\n",
        "\n",
        "---\n",
        "\n"
      ]
    },
    {
      "cell_type": "code",
      "metadata": {
        "id": "AVAsC4ZigP-6"
      },
      "source": [
        "#Execute esta célula para montar o drive (para o Colab ter acesso ao My Drive)\n",
        "from google.colab import drive\n",
        "drive.mount(\"/content/drive\")"
      ],
      "execution_count": null,
      "outputs": []
    },
    {
      "cell_type": "code",
      "metadata": {
        "id": "2r8vk3WCgo_S"
      },
      "source": [
        "#Instale o pacote gspread, que o google criou para integrar o Google Colab com o Google Sheets\n",
        "!pip install --upgrade gspread"
      ],
      "execution_count": null,
      "outputs": []
    },
    {
      "cell_type": "code",
      "metadata": {
        "id": "TruFSpFogyme"
      },
      "source": [
        "#Libere a autenticação e credenciais para conectar o Colab no Drive, permitindo importar/exportar arquivos\n",
        "from google.colab import auth\n",
        "auth.authenticate_user()\n",
        "\n",
        "import gspread\n",
        "from oauth2client.client import GoogleCredentials\n",
        "\n",
        "gc = gspread.authorize(GoogleCredentials.get_application_default())"
      ],
      "execution_count": null,
      "outputs": []
    },
    {
      "cell_type": "code",
      "metadata": {
        "id": "301DJHhAjz0X"
      },
      "source": [
        "#Crie uma planilha, coloque o nome abaixo\n",
        "planilha = gc.create('NOME_DA_PLANILHA')"
      ],
      "execution_count": null,
      "outputs": []
    },
    {
      "cell_type": "code",
      "metadata": {
        "id": "uqqIQa4ZkR06"
      },
      "source": [
        "#Abra a planilha para editá-la\n",
        "worksheet = gc.open('NOME_DA_PLANILHA').sheet1"
      ],
      "execution_count": null,
      "outputs": []
    },
    {
      "cell_type": "markdown",
      "metadata": {
        "id": "UKiOo1ZagcPQ"
      },
      "source": [
        "###Código Fonte\n",
        "\n",
        "\n",
        "---\n",
        "**Execute todas as células desta seção**\n",
        "\n",
        "Você pode realizar isto apenas clicando no botão executar, sem necessidade de abrir as células ocultas\n",
        "\n",
        "\n",
        "---\n",
        "\n"
      ]
    },
    {
      "cell_type": "code",
      "metadata": {
        "id": "y9YzGUMegcPT"
      },
      "source": [
        "#importando os pacotes necessários\n",
        "import os\n",
        "import pathlib\n",
        "import pandas as pd\n",
        "import numpy as np"
      ],
      "execution_count": null,
      "outputs": []
    },
    {
      "cell_type": "code",
      "metadata": {
        "id": "QeB4RV7rgcPh"
      },
      "source": [
        "def sce(palavra, onde, tipo):\n",
        "  string = [palavra]\n",
        "  x = []\n",
        "  files = list(pathlib.Path(onde).glob(\"**/*\"+tipo))\n",
        "  z = ['Arquivo', 'Palavra', 'Contagem']\n",
        "  for filename in files:\n",
        "    with open(filename, 'r') as f:\n",
        "        data = f.read()\n",
        "        for s in string:\n",
        "          p = os.path.basename(filename)\n",
        "          final = [p[:-4], s, data.count(s)]\n",
        "          x.append(final)\n",
        "  worksheet.clear()\n",
        "  worksheet.update(x)\n",
        "  worksheet.insert_row(z, index=1)\n",
        "  worksheet.freeze(rows=1)\n",
        "  rows = worksheet.get_all_values()\n",
        "  rows = pd.DataFrame.from_records(rows)\n",
        "  info = pd.DataFrame.info(rows)\n",
        "  print(rows)\n",
        "  print(info)\n",
        "  n = pd.DataFrame(np.array(x), columns = z)\n",
        "  #cria um CSV p/ gráfico\n",
        "  n.to_csv('cache.csv')\n",
        "  #Criando gráfico\n",
        "  n.groupby(['Contagem']).Contagem.count().plot(kind='bar', title='Quantidade de arquivos por contagem',legend='Contagem', xlabel='Contagem', ylabel='Quantidade de arquivos')"
      ],
      "execution_count": null,
      "outputs": []
    },
    {
      "cell_type": "markdown",
      "metadata": {
        "id": "_IWk6qRjw0dL"
      },
      "source": [
        "\n",
        "###Utilizando o código\n",
        "\n",
        "\n",
        "---\n",
        "**sce(palavra, onde, tipo)**\n",
        "\n",
        "* palavra = palavra a ser procurada\n",
        "\n",
        "* onde = local onde o arquivo se encontra\n",
        "\n",
        "* tipo = tipo de arquivo a ser lido\n",
        "\n"
      ]
    },
    {
      "cell_type": "code",
      "metadata": {
        "id": "agRZwsgOigzX",
        "colab": {
          "base_uri": "https://localhost:8080/",
          "height": 1000
        },
        "outputId": "a67fbad5-636b-4a67-a2ab-439e3d56a483"
      },
      "source": [
        "sce('bepG', '/content/drive/My Drive/IC UFLA/Referências', 'gbk')"
      ],
      "execution_count": null,
      "outputs": [
        {
          "output_type": "stream",
          "text": [
            "<class 'pandas.core.frame.DataFrame'>\n",
            "RangeIndex: 43 entries, 0 to 42\n",
            "Data columns (total 3 columns):\n",
            " #   Column  Non-Null Count  Dtype \n",
            "---  ------  --------------  ----- \n",
            " 0   0       43 non-null     object\n",
            " 1   1       43 non-null     object\n",
            " 2   2       43 non-null     object\n",
            "dtypes: object(3)\n",
            "memory usage: 1.1+ KB\n",
            "                 0        1         2\n",
            "0          Arquivo  Palavra  Contagem\n",
            "1      A13334_cro1     bepG         0\n",
            "2         A19_cro1     bepG         0\n",
            "3     BAB8416_cro1     bepG         0\n",
            "4         A19_cro2     bepG         2\n",
            "5      A13334_cro2     bepG         2\n",
            "6         BDW_cro2     bepG         2\n",
            "7     BAB8416_cro2     bepG         2\n",
            "8         BDW_cro1     bepG         0\n",
            "9          BD_cro1     bepG         0\n",
            "10         BD_cro2     bepG         2\n",
            "11        BER_cro2     bepG         1\n",
            "12        BFY_cro1     bepG         0\n",
            "13        BJ1_cro1     bepG         0\n",
            "14        BER_cro1     bepG         0\n",
            "15        BFY_cro2     bepG         1\n",
            "16   CIIMSNV4_cro1     bepG         0\n",
            "17        BJ1_cro2     bepG         2\n",
            "18        C68_cro1     bepG         0\n",
            "19   CIIMSNV4_cro2     bepG         2\n",
            "20        C68_cro2     bepG         3\n",
            "21       clpP_cro1     bepG         0\n",
            "22       clpP_cro2     bepG         2\n",
            "23         MC_cro2     bepG         2\n",
            "24         MC_cro1     bepG         0\n",
            "25  NCTC10505_cro1     bepG         0\n",
            "26        S19_cro2     bepG         2\n",
            "27        S19_cro1     bepG         0\n",
            "28  NCTC10505_cro2     bepG         3\n",
            "29       RB51_cro1     bepG         0\n",
            "30       RB51_cro2     bepG         2\n",
            "31       104M_cro2     bepG         2\n",
            "32       104M_cro1     bepG         0\n",
            "33        870_cro1     bepG         0\n",
            "34        870_cro2     bepG         3\n",
            "35       2308_cro1     bepG         0\n",
            "36       2308_cro2     bepG         2\n",
            "37       6375_cro2     bepG         3\n",
            "38       6375_cro1     bepG         0\n",
            "39       9941_cro1     bepG         0\n",
            "40       9941_cro2     bepG         2\n",
            "41      86859_cro2     bepG         2\n",
            "42      86859_cro1     bepG         0\n",
            "None\n"
          ],
          "name": "stdout"
        },
        {
          "output_type": "display_data",
          "data": {
            "image/png": "[encoded data removed]",
            "text/plain": [
              "<Figure size 432x288 with 1 Axes>"
            ]
          },
          "metadata": {
            "tags": [],
            "needs_background": "light"
          }
        }
      ]
    },
    {
      "cell_type": "markdown",
      "metadata": {
        "id": "MFdG_AsnxO8c"
      },
      "source": [
        "###Compartilhando a planilha\n",
        "\n",
        "\n",
        "---\n",
        "Apenas insira o(s) e-mail(s) ou exclua a linha\n",
        "\n"
      ]
    },
    {
      "cell_type": "code",
      "metadata": {
        "id": "vYWNTG0sxMAB"
      },
      "source": [
        "#Compartilha a tabela gerada com outros usuários, dando permissões específicas\n",
        "#Copie e cole o código ou exclua com quantos e-mails quiser compartilhar\n",
        "\n",
        "planilha.share('EMAIL1@gmail.com', perm_type='user', role='writer')\n",
        "planilha.share('EMAIL2@gmail.com', perm_type='user', role='writer')\n",
        "planilha.share('EMAIL3@gmail.com', perm_type='user', role='writer')\n"
      ],
      "execution_count": null,
      "outputs": []
    }
  ]
}