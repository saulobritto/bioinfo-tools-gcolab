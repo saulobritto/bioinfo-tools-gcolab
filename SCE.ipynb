{
  "nbformat": 4,
  "nbformat_minor": 0,
  "metadata": {
    "colab": {
      "name": "SCE.ipynb",
      "provenance": [],
      "collapsed_sections": [
        "pQ6Ac6_sbBfj"
      ],
      "mount_file_id": "1dmkYY54426s01gAjqUU8rRwVWos6WOpT",
      "authorship_tag": "ABX9TyODxvfG+RWqkh5uQJ2ozGoF",
      "include_colab_link": true
    },
    "kernelspec": {
      "name": "python3",
      "display_name": "Python 3"
    }
  },
  "cells": [
    {
      "cell_type": "markdown",
      "metadata": {
        "id": "view-in-github",
        "colab_type": "text"
      },
      "source": [
        "<a href=\"https://colab.research.google.com/github/saulobritto/bioinfo-tools-gcolab/blob/main/SCE.ipynb\" target=\"_parent\"><img src=\"https://colab.research.google.com/assets/colab-badge.svg\" alt=\"Open In Colab\"/></a>"
      ]
    },
    {
      "cell_type": "markdown",
      "metadata": {
        "id": "aABZ4Xo7PO2j"
      },
      "source": [
        "#Search and Count Engine (SCE)\n",
        "\n",
        "---\n",
        "\n",
        "Author:\n",
        "\n",
        "* Saulo Britto da Silva\n",
        " * saulobdasilva@gmail.com\n",
        " * https://github.com/saulobritto\n",
        "\n",
        "Last update: 08 Jan. 2021\n",
        "\n",
        "\n",
        ">Program to search for a word/term/gene in multiple files in multiple subfolders, returning how many times the term appears in each file and generating a search CSV, which can be downloaded.\n",
        "\n",
        "---\n",
        "\n"
      ]
    },
    {
      "cell_type": "markdown",
      "metadata": {
        "id": "G9jybEZjyIJb"
      },
      "source": [
        "##Results to CSV\n",
        "\n"
      ]
    },
    {
      "cell_type": "code",
      "metadata": {
        "id": "KzjTL0W0PI4j"
      },
      "source": [
        "#Run this cell to mount the drive (for Colab to have access to My Drive)\n",
        "from google.colab import drive\n",
        "drive.mount(\"/content/drive\")"
      ],
      "execution_count": null,
      "outputs": []
    },
    {
      "cell_type": "markdown",
      "metadata": {
        "id": "pQ6Ac6_sbBfj"
      },
      "source": [
        "###Código Fonte\n",
        "\n",
        "\n",
        "---\n",
        "**Run all cells in this section**\n",
        "\n",
        "You can do this just by clicking the run button above, without having to open the hidden cells\n",
        "\n",
        "\n",
        "---\n",
        "\n"
      ]
    },
    {
      "cell_type": "code",
      "metadata": {
        "id": "Ep7TlcF9PVLl"
      },
      "source": [
        "#importing necessary packages\n",
        "import os\n",
        "import pathlib\n",
        "import pandas as pd\n",
        "import numpy as np"
      ],
      "execution_count": null,
      "outputs": []
    },
    {
      "cell_type": "code",
      "metadata": {
        "id": "YHO1so0XPpOp"
      },
      "source": [
        "#main code\n",
        "def sce(palavra, onde, tipo, saida):\n",
        "  string = [palavra]\n",
        "  x = []\n",
        "  files = list(pathlib.Path(onde).glob(\"**/*\"+tipo))\n",
        "  z = ['Arquivo', 'Palavra', 'Contagem']\n",
        "  for filename in files:\n",
        "    with open(filename, 'r') as f:\n",
        "        data = f.read()\n",
        "        for s in string:\n",
        "          p = os.path.basename(filename)\n",
        "          final = [p[:-4], s, data.count(s)]\n",
        "          x.append(final)\n",
        "  #creating table\n",
        "  n = pd.DataFrame(np.array(x), columns = z)\n",
        "  #generating CSV\n",
        "  n.to_csv(saida+'.csv')\n",
        "  print(n)\n",
        "  info = pd.DataFrame.info(n)\n",
        "  print(info)\n",
        "  #plotting a graph per count\n",
        "  n.groupby(['Contagem']).Contagem.count().plot(kind='bar', title='Quantidade de arquivos por contagem',legend='Contagem', xlabel='Contagem', ylabel='Quantidade de arquivos')\n",
        "  "
      ],
      "execution_count": null,
      "outputs": []
    },
    {
      "cell_type": "markdown",
      "metadata": {
        "id": "6T17_Cv2Zzu8"
      },
      "source": [
        "###Using SCE\n",
        "\n",
        "\n",
        "---\n",
        "**sce(word, where, file-type, output)**\n",
        "\n",
        "* word = word to be searched\n",
        "\n",
        "* where = folder where subfolders containing files are\n",
        "\n",
        "* file-type = file types to be searched\n",
        "\n",
        "* output = output file name\n",
        "\n"
      ]
    },
    {
      "cell_type": "code",
      "metadata": {
        "id": "TTgaEd44RR59"
      },
      "source": [
        "sce('word/gene', 'folder-containing-subfolders-path', 'file-type', 'output-file-name')"
      ],
      "execution_count": null,
      "outputs": []
    },
    {
      "cell_type": "markdown",
      "metadata": {
        "id": "McOmykpBdMDK"
      },
      "source": [
        "###CSV Download\n",
        "\n",
        "\n",
        "---\n",
        "Insert the 'output-file-name.csv' below\n"
      ]
    },
    {
      "cell_type": "code",
      "metadata": {
        "id": "FrAkTCjiYevm",
        "colab": {
          "base_uri": "https://localhost:8080/",
          "height": 17
        },
        "outputId": "572a2947-3cfb-4211-a708-dc3440f9fc92"
      },
      "source": [
        "from google.colab import files\n",
        "\n",
        "#Insert the 'output-file-name.csv' below\n",
        "files.download(\"output-file-name.csv\")"
      ],
      "execution_count": null,
      "outputs": [
        {
          "output_type": "display_data",
          "data": {
            "application/javascript": [
              "\n",
              "    async function download(id, filename, size) {\n",
              "      if (!google.colab.kernel.accessAllowed) {\n",
              "        return;\n",
              "      }\n",
              "      const div = document.createElement('div');\n",
              "      const label = document.createElement('label');\n",
              "      label.textContent = `Downloading \"${filename}\": `;\n",
              "      div.appendChild(label);\n",
              "      const progress = document.createElement('progress');\n",
              "      progress.max = size;\n",
              "      div.appendChild(progress);\n",
              "      document.body.appendChild(div);\n",
              "\n",
              "      const buffers = [];\n",
              "      let downloaded = 0;\n",
              "\n",
              "      const channel = await google.colab.kernel.comms.open(id);\n",
              "      // Send a message to notify the kernel that we're ready.\n",
              "      channel.send({})\n",
              "\n",
              "      for await (const message of channel.messages) {\n",
              "        // Send a message to notify the kernel that we're ready.\n",
              "        channel.send({})\n",
              "        if (message.buffers) {\n",
              "          for (const buffer of message.buffers) {\n",
              "            buffers.push(buffer);\n",
              "            downloaded += buffer.byteLength;\n",
              "            progress.value = downloaded;\n",
              "          }\n",
              "        }\n",
              "      }\n",
              "      const blob = new Blob(buffers, {type: 'application/binary'});\n",
              "      const a = document.createElement('a');\n",
              "      a.href = window.URL.createObjectURL(blob);\n",
              "      a.download = filename;\n",
              "      div.appendChild(a);\n",
              "      a.click();\n",
              "      div.remove();\n",
              "    }\n",
              "  "
            ],
            "text/plain": [
              "<IPython.core.display.Javascript object>"
            ]
          },
          "metadata": {
            "tags": []
          }
        },
        {
          "output_type": "display_data",
          "data": {
            "application/javascript": [
              "download(\"download_3013dc45-7357-4445-a8f0-762167b289ed\", \"teste.csv\", 859)"
            ],
            "text/plain": [
              "<IPython.core.display.Javascript object>"
            ]
          },
          "metadata": {
            "tags": []
          }
        }
      ]
    },
    {
      "cell_type": "markdown",
      "metadata": {
        "id": "FtytVQ5YgEsJ"
      },
      "source": [
        "##Results to Google Sheets\n",
        "\n"
      ]
    },
    {
      "cell_type": "code",
      "metadata": {
        "id": "AVAsC4ZigP-6"
      },
      "source": [
        "#Run this cell to mount the drive (for Colab to have access to My Drive)\n",
        "from google.colab import drive\n",
        "drive.mount(\"/content/drive\")"
      ],
      "execution_count": null,
      "outputs": []
    },
    {
      "cell_type": "code",
      "metadata": {
        "id": "2r8vk3WCgo_S"
      },
      "source": [
        "#Install the gspread package, which google created to integrate Google Colab with Google Sheets\n",
        "!pip install --upgrade gspread"
      ],
      "execution_count": null,
      "outputs": []
    },
    {
      "cell_type": "code",
      "metadata": {
        "id": "TruFSpFogyme"
      },
      "source": [
        "#Release authentication and credentials to connect Colab to Drive, allowing you to import / export files\n",
        "from google.colab import auth\n",
        "auth.authenticate_user()\n",
        "\n",
        "import gspread\n",
        "from oauth2client.client import GoogleCredentials\n",
        "\n",
        "gc = gspread.authorize(GoogleCredentials.get_application_default())"
      ],
      "execution_count": null,
      "outputs": []
    },
    {
      "cell_type": "code",
      "metadata": {
        "id": "301DJHhAjz0X"
      },
      "source": [
        "#Create a spreadsheet, enter the name below\n",
        "planilha = gc.create('spreadsheet-name')"
      ],
      "execution_count": null,
      "outputs": []
    },
    {
      "cell_type": "code",
      "metadata": {
        "id": "uqqIQa4ZkR06"
      },
      "source": [
        "#Open the spreadsheet to edit\n",
        "worksheet = gc.open('spreadsheet-name').sheet1"
      ],
      "execution_count": null,
      "outputs": []
    },
    {
      "cell_type": "markdown",
      "metadata": {
        "id": "UKiOo1ZagcPQ"
      },
      "source": [
        "###Código Fonte\n",
        "\n",
        "\n",
        "---\n",
        "**Run all cells in this section**\n",
        "\n",
        "You can do this just by clicking the run button above, without having to open the hidden cells\n",
        "\n",
        "\n",
        "---\n"
      ]
    },
    {
      "cell_type": "code",
      "metadata": {
        "id": "y9YzGUMegcPT"
      },
      "source": [
        "#Importing necessary packages\n",
        "import os\n",
        "import pathlib\n",
        "import pandas as pd\n",
        "import numpy as np"
      ],
      "execution_count": null,
      "outputs": []
    },
    {
      "cell_type": "code",
      "metadata": {
        "id": "QeB4RV7rgcPh"
      },
      "source": [
        "#Main code\n",
        "def sce(palavra, onde, tipo):\n",
        "  string = [palavra]\n",
        "  x = []\n",
        "  files = list(pathlib.Path(onde).glob(\"**/*\"+tipo))\n",
        "  z = ['Arquivo', 'Palavra', 'Contagem']\n",
        "  for filename in files:\n",
        "    with open(filename, 'r') as f:\n",
        "        data = f.read()\n",
        "        for s in string:\n",
        "          p = os.path.basename(filename)\n",
        "          final = [p[:-4], s, data.count(s)]\n",
        "          x.append(final)\n",
        "  worksheet.clear()\n",
        "  worksheet.update(x)\n",
        "  worksheet.insert_row(z, index=1)\n",
        "  worksheet.freeze(rows=1)\n",
        "  rows = worksheet.get_all_values()\n",
        "  rows = pd.DataFrame.from_records(rows)\n",
        "  info = pd.DataFrame.info(rows)\n",
        "  print(rows)\n",
        "  print(info)\n",
        "  n = pd.DataFrame(np.array(x), columns = z)\n",
        "  #Create a CSV to plot a graph\n",
        "  n.to_csv('cache.csv')\n",
        "  #Plotting a graph\n",
        "  n.groupby(['Contagem']).Contagem.count().plot(kind='bar', title='Quantidade de arquivos por contagem',legend='Contagem', xlabel='Contagem', ylabel='Quantidade de arquivos')"
      ],
      "execution_count": null,
      "outputs": []
    },
    {
      "cell_type": "markdown",
      "metadata": {
        "id": "_IWk6qRjw0dL"
      },
      "source": [
        "\n",
        "###Using SCE\n",
        "\n",
        "\n",
        "---\n",
        "**sce(word, where, type)**\n",
        "\n",
        "* word = word to be searched\n",
        "\n",
        "* where = folder where subfolders containing files are\n",
        "\n",
        "* type = file type to be searched\n",
        "\n"
      ]
    },
    {
      "cell_type": "code",
      "metadata": {
        "id": "agRZwsgOigzX"
      },
      "source": [
        "sce('word/term/gene', 'where', 'type')"
      ],
      "execution_count": null,
      "outputs": []
    },
    {
      "cell_type": "markdown",
      "metadata": {
        "id": "MFdG_AsnxO8c"
      },
      "source": [
        "###Sharing the spreadsheet\n",
        "\n",
        "\n",
        "---\n",
        "Just enter the email(s) or delete the line\n",
        "\n"
      ]
    },
    {
      "cell_type": "code",
      "metadata": {
        "id": "vYWNTG0sxMAB"
      },
      "source": [
        "#Share the generated table with other users, giving specific permissions\n",
        "#Copy and paste the code or delete with as many emails you want to share\n",
        "\n",
        "planilha.share('EMAIL1@gmail.com', perm_type='user', role='writer')\n",
        "planilha.share('EMAIL2@gmail.com', perm_type='user', role='writer')\n",
        "planilha.share('EMAIL3@gmail.com', perm_type='user', role='writer')\n"
      ],
      "execution_count": null,
      "outputs": []
    }
  ]
}