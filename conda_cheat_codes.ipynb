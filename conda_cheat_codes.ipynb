{
  "nbformat": 4,
  "nbformat_minor": 0,
  "metadata": {
    "colab": {
      "name": "conda-cheat-codes.ipynb",
      "provenance": [],
      "authorship_tag": "ABX9TyO38pr2BXgNVpx7MAIemUZx",
      "include_colab_link": true
    },
    "kernelspec": {
      "name": "python3",
      "display_name": "Python 3"
    }
  },
  "cells": [
    {
      "cell_type": "markdown",
      "metadata": {
        "id": "view-in-github",
        "colab_type": "text"
      },
      "source": [
        "<a href=\"https://colab.research.google.com/github/saulobritto/bioinfo-tools-gcolab/blob/main/conda_cheat_codes.ipynb\" target=\"_parent\"><img src=\"https://colab.research.google.com/assets/colab-badge.svg\" alt=\"Open In Colab\"/></a>"
      ]
    },
    {
      "cell_type": "markdown",
      "metadata": {
        "id": "PHeuR5-S1gqi"
      },
      "source": [
        "Author:\n",
        "\n",
        "* Saulo Britto da Silva\n",
        " * saulobdasilva@gmail.com\n",
        " * https://github.com/saulobritto\n",
        "\n",
        "Last update: 08 Jan. 2021\n"
      ]
    },
    {
      "cell_type": "markdown",
      "metadata": {
        "id": "MzwZL13jnyRd"
      },
      "source": [
        "#Getting Started"
      ]
    },
    {
      "cell_type": "code",
      "metadata": {
        "id": "2dzofwbKnIA-"
      },
      "source": [
        "#Verify Conda is installed, check version number\n",
        "conda info\n",
        "\n",
        "#Update Conda to the current versionUpdate all packages to the latest version of Anaconda. \n",
        "conda update -n base conda\n",
        "\n",
        "#Will install stable and compatible versions, not necessarily the very latest.\n",
        "conda update anaconda"
      ],
      "execution_count": null,
      "outputs": []
    },
    {
      "cell_type": "markdown",
      "metadata": {
        "id": "1lyxkgZUoHT-"
      },
      "source": [
        "#Working with Environments"
      ]
    },
    {
      "cell_type": "code",
      "metadata": {
        "id": "2RqGL6jqoKJ-"
      },
      "source": [
        "#Create a new environment named ENVNAME with specific version of Python and packages installed. \n",
        "conda create --name ENVNAME python=3.6 \"PKG1>7.6\" PKG2\n",
        "\n",
        "#Activate a named Conda environment\n",
        "conda activate ENVNAME\n",
        "\n",
        "#Activate a Conda environment at a particular location on disk\n",
        "conda activate /path/to/environment-dir\n",
        "\n",
        "#Deactivate current environment\n",
        "conda deactivate\n",
        "\n",
        "#List all packages and versions in the active environment\n",
        "conda list\n",
        "\n",
        "#List all packages and versions in a named environment\n",
        "conda list --name ENVNAME\n",
        "\n",
        "#List all revisions made within the active environment\n",
        "conda list --revisions\n",
        "\n",
        "#List all revisions made in a specified environment\n",
        "conda list --name ENVNAME --revisions\n",
        "\n",
        "#Restore an environment to a previous revision\n",
        "conda install --name ENVNAME --revision REV_NUMBER\n",
        "\n",
        "#Delete an entire environment\n",
        "conda remove --name ENVNAME --all\n",
        "\n",
        "#List of envs\n",
        "conda info --envs"
      ],
      "execution_count": null,
      "outputs": []
    },
    {
      "cell_type": "markdown",
      "metadata": {
        "id": "D7xXI2C1pKEw"
      },
      "source": [
        "#Sharing Environments"
      ]
    },
    {
      "cell_type": "code",
      "metadata": {
        "id": "GtGvftccpRRT"
      },
      "source": [
        "#Make an exact copy of an environment\n",
        "conda create --clone ENVNAME --name NEWENV\n",
        "\n",
        "#Export an environment to a YAML file that can be read on Windows, macOS, and Linux\n",
        "conda env export --name ENVNAME > envname.yml\n",
        "\n",
        "#Create an environment from YAML file\n",
        "conda env create --file envname.yml\n",
        "\n",
        "#Create an environment from the file named environment.yml in the current directory\n",
        "conda env create\n",
        "\n",
        "#Export an environment with exact package versions for one OS\n",
        "conda list --explicit > pkgs.txt\n",
        "\n",
        "#Create an environment based onexact package versions\n",
        "conda create --name NEWENV --file pkgs.txt"
      ],
      "execution_count": null,
      "outputs": []
    },
    {
      "cell_type": "markdown",
      "metadata": {
        "id": "Z33KG7LnqFW0"
      },
      "source": [
        "#Using Packages and Channels"
      ]
    },
    {
      "cell_type": "code",
      "metadata": {
        "id": "xxifJLRMqLGm"
      },
      "source": [
        "#Install package from a specific channel\n",
        "conda install conda-forge::PKGNAME\n",
        "\n",
        "#Install a package by exact version number (3.1.4)\n",
        "conda install PKGNAME==3.1.4\n",
        "\n",
        "#Install one of the listed versions (OR)\n",
        "conda install \"PKGNAME[version='3.1.2|3.1.4']\"\n",
        "\n",
        "#Install following several constraints (AND)\n",
        "conda install \"PKGNAME>2.5,<3.2\"\n",
        "\n",
        "#Add a channel to your Conda configuration\n",
        "conda config --add channels CHANNELNAME"
      ],
      "execution_count": null,
      "outputs": []
    },
    {
      "cell_type": "markdown",
      "metadata": {
        "id": "r9FuSfS8qwbe"
      },
      "source": [
        "#Additional Useful Hints"
      ]
    },
    {
      "cell_type": "code",
      "metadata": {
        "id": "lNIy-C62r1ge"
      },
      "source": [
        "#Detailed information about package versions\n",
        "conda search PKGNAME --info\n",
        "\n",
        "#Remove unused cached files including unused packages\n",
        "conda clean --all\n",
        "\n",
        "#Remove a package from an environment\n",
        "conda uninstall PKGNAME --name ENVNAME\n",
        "\n",
        "#Update all packages within an environment\n",
        "conda update --all --name ENVNAME\n",
        "\n",
        "#Run most commands without requiring a user prompt. Useful for scripts.\n",
        "conda install --yes PKG1 PKG2\n",
        "\n",
        "#Examine Conda configuration and configuration services\n",
        "conda config --show\n",
        "conda config --show-sources"
      ],
      "execution_count": null,
      "outputs": []
    }
  ]
}