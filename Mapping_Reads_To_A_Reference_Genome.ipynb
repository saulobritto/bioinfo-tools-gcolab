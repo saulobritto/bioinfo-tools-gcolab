{
  "nbformat": 4,
  "nbformat_minor": 0,
  "metadata": {
    "colab": {
      "name": "Mapping Reads To A Reference Genome.ipynb",
      "provenance": [],
      "collapsed_sections": [
        "ceaAYbjT5CUU",
        "tH5F-Upb5JXU",
        "e3-pGuFJ55w7"
      ],
      "toc_visible": true,
      "mount_file_id": "1jY0LNlZKKQmAoUdkOsbVabuK65R_kfD_",
      "authorship_tag": "ABX9TyO7tZiWMIZDPixu35RhNDzZ",
      "include_colab_link": true
    },
    "kernelspec": {
      "name": "python3",
      "display_name": "Python 3"
    }
  },
  "cells": [
    {
      "cell_type": "markdown",
      "metadata": {
        "id": "view-in-github",
        "colab_type": "text"
      },
      "source": [
        "<a href=\"https://colab.research.google.com/github/saulobritto/genome-assembly-gcolab/blob/main/Mapping_Reads_To_A_Reference_Genome.ipynb\" target=\"_parent\"><img src=\"https://colab.research.google.com/assets/colab-badge.svg\" alt=\"Open In Colab\"/></a>"
      ]
    },
    {
      "cell_type": "markdown",
      "metadata": {
        "id": "rPvDY9PDBLN-"
      },
      "source": [
        "#Pipeline para mapeamento de reads com um genoma de referência e seus dados.\n",
        "\n",
        "\n",
        "\n",
        "\n",
        "\n",
        "---\n",
        "**Pipeline desenvolvida por Saulo Britto da Silva**\n",
        "\n",
        "*Última atualização no dia 26.11.2020*\n",
        "\n",
        ">Pipeline teste desenvolvida para realizar o mapeamento de reads com um genoma de referência e seus dados.\n",
        "\n",
        "---\n"
      ]
    },
    {
      "cell_type": "markdown",
      "metadata": {
        "id": "ceaAYbjT5CUU"
      },
      "source": [
        "#Instalações"
      ]
    },
    {
      "cell_type": "code",
      "metadata": {
        "id": "USEIovhh0tD7"
      },
      "source": [
        "# Download Miniconda installation script\n",
        "!wget https://repo.anaconda.com/miniconda/Miniconda3-latest-Linux-x86_64.sh\n",
        "\n",
        "# Make it executable\n",
        "!chmod +x Miniconda3-latest-Linux-x86_64.sh\n",
        "\n",
        "# Start installation in silent mode\n",
        "!bash ./Miniconda3-latest-Linux-x86_64.sh -b -f -p /usr/local\n",
        "\n",
        "# Make conda packages available in current environment\n",
        "import sys\n",
        "sys.path.append('/usr/local/lib/python3.7/site-packages/')"
      ],
      "execution_count": null,
      "outputs": []
    },
    {
      "cell_type": "code",
      "metadata": {
        "id": "zLdFY7uS1M6j"
      },
      "source": [
        "!conda install -c bioconda bowtie2"
      ],
      "execution_count": null,
      "outputs": []
    },
    {
      "cell_type": "code",
      "metadata": {
        "id": "WOsyGgIV5ZMT"
      },
      "source": [
        "#SAMtools\n",
        "!wget https://github.com/samtools/samtools/releases/download/1.11/samtools-1.11.tar.bz2\n",
        "!tar -jvxf samtools-1.11.tar.bz2\n",
        "%cd samtools-1.11\n",
        "!make"
      ],
      "execution_count": null,
      "outputs": []
    },
    {
      "cell_type": "code",
      "metadata": {
        "id": "HPrOEmeG12gj"
      },
      "source": [
        "#Conectando o Google Drive à Pipeline\n",
        "from google.colab import drive\n",
        "drive.mount('/content/drive')"
      ],
      "execution_count": null,
      "outputs": []
    },
    {
      "cell_type": "markdown",
      "metadata": {
        "id": "tH5F-Upb5JXU"
      },
      "source": [
        "#Bowtie2"
      ]
    },
    {
      "cell_type": "code",
      "metadata": {
        "id": "-PSETD_Q2D38"
      },
      "source": [
        "!bowtie2 "
      ],
      "execution_count": null,
      "outputs": []
    },
    {
      "cell_type": "markdown",
      "metadata": {
        "id": "v9GFMOD32uG_"
      },
      "source": [
        "##Example\n",
        "\n",
        "mapping short reads against E. coli 2011 outbreak genome\n",
        "\n",
        "\n",
        "---\n",
        "\n",
        "\n",
        "###Create bowtie2 index database\n",
        "\n",
        "example genome: German 2011 E.coli outbreak (database name: ecoli)\n",
        "\n",
        "!bowtie2-build GCF_000299455.fna ecoli\n",
        "\n",
        "\n",
        "---\n",
        "\n",
        "\n",
        "###Bowtie2 mapping\n",
        "\n",
        "map reads (sample.fastq) against the E. coli genome database 'ecoli'\n",
        "\n",
        "!bowtie2 -x ecoli -1 SAMPLE_r1.fastq -2 SAMPLE_r2.fastq -U SAMPLE_single_reads.fastq --no-unal -p 12 -S SAMPLE.sam\n",
        "\n",
        "\n",
        "---\n",
        "\n",
        "\n",
        "\n",
        "  -1            read 1 of paired reads\n",
        " \n",
        "  -2            read 2 of paired reads\n",
        " \n",
        "  -U            single unpaired reads\n",
        " \n",
        "  -S SAMPLE.sam write bowtie2 output in SAM format to file SAMPLE.sam\n",
        " \n",
        "  --no-unal     ignore reads that failed to align\n",
        " \n",
        "  -p 12         use up to 12 parallel processors\n",
        "\n",
        "  ---\n",
        "  Author of this example:\n",
        "\n",
        "Matthias Scholz\n",
        "\n",
        "https://twitter.com/panphlan\n"
      ]
    },
    {
      "cell_type": "markdown",
      "metadata": {
        "id": "e3-pGuFJ55w7"
      },
      "source": [
        "#SAMtools"
      ]
    },
    {
      "cell_type": "code",
      "metadata": {
        "id": "uYfldGwc59Vi"
      },
      "source": [
        ""
      ],
      "execution_count": null,
      "outputs": []
    },
    {
      "cell_type": "markdown",
      "metadata": {
        "id": "tKB0mSPW59wv"
      },
      "source": [
        "##Examples\n",
        "\n",
        "\n",
        "---\n",
        "\n",
        "\n",
        "convert a SAM file to a BAM file\n",
        "\n",
        "!samtools view -b -S SAMPLE.sam > SAMPLE.bam\n",
        "\n",
        "  -S Input is in SAM format\n",
        "\n",
        "  -b Output in BAM format\n",
        "\n",
        "\n",
        "\n",
        "---\n",
        "\n",
        "\n",
        "convert a BAM file to a SAM file\n",
        "\n",
        "!samtools view -h SAMPLE.bam > SAMPLE.sam\n",
        "\n",
        "\n",
        "\n",
        "---\n",
        "\n",
        "\n",
        "sort a BAM file\n",
        "\n",
        "samtools sort SAMPLE.bam -o SAMPLE_sorted.bam\n",
        "\n",
        "\n",
        "---\n",
        "\n",
        "\n",
        "### Using a unix pipe (input '-')\n",
        "!cat SAMPLE.bam | samtools sort - -o SAMPLE_sorted.bam\n",
        "\n",
        "!samtools sort SAMPLE.bam SAMPLE   # old version v1.2\n",
        "\n",
        "---\n",
        "sort by readName\n",
        "\n",
        "!samtools sort -n SAMPLE.bam -o SAMPLE_sorted.bam\n",
        "\n",
        "---\n",
        "Stats\n",
        "\n",
        "get number of alignments\n",
        "\n",
        "!samtools view -c SAMPLE.bam\n",
        "\n",
        "more statistics about alignments\n",
        "\n",
        "!samtools flagstat SAMPLE.bam\n",
        "\n",
        "comprehensive statistics\n",
        "\n",
        "!samtools stats SAMPLE.bam\n",
        "\n",
        "---\n",
        "###Get coverage\n",
        "get coverage of a selected region (e.g., from base 1,958,700 to 1,958,907 of a contig)\n",
        "\n",
        "!samtools index sampleID.bam\n",
        "\n",
        "!samtools mpileup -r 'contigName:1,958,700-1,958,907' sampleID.bam\n",
        "\n",
        "### same in combination with awk to count the total and averaged coverage\n",
        "\n",
        "!samtools mpileup -r 'contigName:1,958,700-1,958,907' sampleID.bam | awk 'BEGIN{C=0}; {C=C+$4}; END{print C \"\\t\" C/NR}'\n",
        "\n",
        "---\n",
        "see also: → Calling SNPs/INDELs with SAMtools/BCFtools\n",
        "\n",
        "Note: SAMtools mpileup counts only primary aligned reads. SAMtools discards unmapped reads, secondary alignments and duplicates. To consider also secondary alignments, BEDtools could be an alternative.\n",
        "\n",
        "---\n",
        "###SAMtools documentation\n",
        "\n",
        "[Samtools homepage](http://www.htslib.org/)\n",
        "\n",
        "[Samtools documentation](http://www.htslib.org/doc/samtools.html)\n",
        "\n",
        "[Introduction by Dave Tang](http://davetang.org/wiki/tiki-index.php?page=SAMTools)\n",
        "\n",
        "\n",
        "Alternative BAM processing tools\n",
        "\n",
        "→ Sambamba\n",
        "\n",
        "→ BEDtools\n",
        "\n",
        "---\n",
        "Author of this example: \n",
        "\n",
        "Matthias Scholz\n",
        "\n",
        "https://twitter.com/panphlan\n",
        "\n"
      ]
    },
    {
      "cell_type": "markdown",
      "metadata": {
        "id": "G-MM1thcl6xf"
      },
      "source": [
        "#Jbrowser2"
      ]
    },
    {
      "cell_type": "code",
      "metadata": {
        "colab": {
          "base_uri": "https://localhost:8080/"
        },
        "id": "bRjGmgB2cy2L",
        "outputId": "584ceef7-4867-40b1-aa44-976fc2945f49"
      },
      "source": [
        "!curl -sL https://deb.nodesource.com/setup_15.x | sudo -E bash -\n",
        "!sudo apt-get install -y nodejs"
      ],
      "execution_count": null,
      "outputs": [
        {
          "output_type": "stream",
          "text": [
            "\n",
            "## Installing the NodeSource Node.js 15.x repo...\n",
            "\n",
            "\n",
            "## Populating apt-get cache...\n",
            "\n",
            "+ apt-get update\n",
            "\r0% [Working]\r            \rHit:1 http://ppa.launchpad.net/c2d4u.team/c2d4u4.0+/ubuntu bionic InRelease\n",
            "\r0% [Waiting for headers] [Connecting to security.ubuntu.com (91.189.91.39)] [Co\r                                                                               \rHit:2 http://archive.ubuntu.com/ubuntu bionic InRelease\n",
            "\r                                                                               \rGet:3 http://archive.ubuntu.com/ubuntu bionic-updates InRelease [88.7 kB]\n",
            "\r0% [3 InRelease 15.6 kB/88.7 kB 18%] [Connecting to security.ubuntu.com (91.189\r0% [1 InRelease gpgv 15.9 kB] [3 InRelease 15.6 kB/88.7 kB 18%] [Connecting to \r                                                                               \rHit:4 http://ppa.launchpad.net/graphics-drivers/ppa/ubuntu bionic InRelease\n",
            "\r0% [1 InRelease gpgv 15.9 kB] [3 InRelease 18.5 kB/88.7 kB 21%] [Connecting to \r                                                                               \rHit:5 https://deb.nodesource.com/node_15.x bionic InRelease\n",
            "\r0% [1 InRelease gpgv 15.9 kB] [3 InRelease 24.3 kB/88.7 kB 27%] [Connecting to \r0% [1 InRelease gpgv 15.9 kB] [Waiting for headers] [Connecting to security.ubu\r                                                                               \rGet:6 http://archive.ubuntu.com/ubuntu bionic-backports InRelease [74.6 kB]\n",
            "Hit:7 https://cloud.r-project.org/bin/linux/ubuntu bionic-cran40/ InRelease\n",
            "Get:8 http://security.ubuntu.com/ubuntu bionic-security InRelease [88.7 kB]\n",
            "Ign:9 https://developer.download.nvidia.com/compute/cuda/repos/ubuntu1804/x86_64  InRelease\n",
            "Ign:10 https://developer.download.nvidia.com/compute/machine-learning/repos/ubuntu1804/x86_64  InRelease\n",
            "Hit:11 https://developer.download.nvidia.com/compute/cuda/repos/ubuntu1804/x86_64  Release\n",
            "Hit:12 https://developer.download.nvidia.com/compute/machine-learning/repos/ubuntu1804/x86_64  Release\n",
            "Get:13 http://archive.ubuntu.com/ubuntu bionic-updates/restricted amd64 Packages [259 kB]\n",
            "Get:14 http://archive.ubuntu.com/ubuntu bionic-updates/main amd64 Packages [2,227 kB]\n",
            "Fetched 2,738 kB in 1s (2,517 kB/s)\n",
            "Reading package lists... Done\n",
            "\n",
            "## Confirming \"bionic\" is supported...\n",
            "\n",
            "+ curl -sLf -o /dev/null 'https://deb.nodesource.com/node_15.x/dists/bionic/Release'\n",
            "\n",
            "## Adding the NodeSource signing key to your keyring...\n",
            "\n",
            "+ curl -s https://deb.nodesource.com/gpgkey/nodesource.gpg.key | apt-key add -\n",
            "OK\n",
            "\n",
            "## Creating apt sources list file for the NodeSource Node.js 15.x repo...\n",
            "\n",
            "+ echo 'deb https://deb.nodesource.com/node_15.x bionic main' > /etc/apt/sources.list.d/nodesource.list\n",
            "+ echo 'deb-src https://deb.nodesource.com/node_15.x bionic main' >> /etc/apt/sources.list.d/nodesource.list\n",
            "\n",
            "## Running `apt-get update` for you...\n",
            "\n",
            "+ apt-get update\n",
            "Hit:1 http://ppa.launchpad.net/c2d4u.team/c2d4u4.0+/ubuntu bionic InRelease\n",
            "Hit:2 http://archive.ubuntu.com/ubuntu bionic InRelease\n",
            "Hit:3 https://cloud.r-project.org/bin/linux/ubuntu bionic-cran40/ InRelease\n",
            "Hit:4 https://deb.nodesource.com/node_15.x bionic InRelease\n",
            "Hit:5 http://ppa.launchpad.net/graphics-drivers/ppa/ubuntu bionic InRelease\n",
            "Hit:6 http://security.ubuntu.com/ubuntu bionic-security InRelease\n",
            "Ign:7 https://developer.download.nvidia.com/compute/cuda/repos/ubuntu1804/x86_64  InRelease\n",
            "Hit:8 http://archive.ubuntu.com/ubuntu bionic-updates InRelease\n",
            "Hit:9 http://archive.ubuntu.com/ubuntu bionic-backports InRelease\n",
            "Ign:10 https://developer.download.nvidia.com/compute/machine-learning/repos/ubuntu1804/x86_64  InRelease\n",
            "Hit:11 https://developer.download.nvidia.com/compute/cuda/repos/ubuntu1804/x86_64  Release\n",
            "Hit:12 https://developer.download.nvidia.com/compute/machine-learning/repos/ubuntu1804/x86_64  Release\n",
            "Reading package lists... Done\n",
            "\n",
            "## Run `\u001b[1msudo apt-get install -y nodejs\u001b[m` to install Node.js 15.x and npm\n",
            "## You may also need development tools to build native addons:\n",
            "     sudo apt-get install gcc g++ make\n",
            "## To install the Yarn package manager, run:\n",
            "     curl -sL https://dl.yarnpkg.com/debian/pubkey.gpg | sudo apt-key add -\n",
            "     echo \"deb https://dl.yarnpkg.com/debian/ stable main\" | sudo tee /etc/apt/sources.list.d/yarn.list\n",
            "     sudo apt-get update && sudo apt-get install yarn\n",
            "\n",
            "\n",
            "Reading package lists... Done\n",
            "Building dependency tree       \n",
            "Reading state information... Done\n",
            "nodejs is already the newest version (15.3.0-1nodesource1).\n",
            "0 upgraded, 0 newly installed, 0 to remove and 64 not upgraded.\n"
          ],
          "name": "stdout"
        }
      ]
    },
    {
      "cell_type": "code",
      "metadata": {
        "colab": {
          "base_uri": "https://localhost:8080/"
        },
        "id": "7mesiaQ5dbnd",
        "outputId": "52858628-8beb-49cc-c45d-058e38d46ff0"
      },
      "source": [
        "!npm install -g @jbrowse/cli"
      ],
      "execution_count": null,
      "outputs": [
        {
          "output_type": "stream",
          "text": [
            "\u001b[K\u001b[?25h\n",
            "changed 183 packages, and audited 183 packages in 6s\n",
            "\n",
            "13 packages are looking for funding\n",
            "  run `npm fund` for details\n",
            "\n",
            "found \u001b[32m\u001b[1m0\u001b[22m\u001b[39m vulnerabilities\n"
          ],
          "name": "stdout"
        }
      ]
    },
    {
      "cell_type": "code",
      "metadata": {
        "colab": {
          "base_uri": "https://localhost:8080/"
        },
        "id": "bQcTuek-dfLm",
        "outputId": "b79b1d13-d420-4572-85e2-de35a76d1c74"
      },
      "source": [
        "!jbrowse --version"
      ],
      "execution_count": null,
      "outputs": [
        {
          "output_type": "stream",
          "text": [
            "@jbrowse/cli/1.0.1 linux-x64 node-v15.3.0\n"
          ],
          "name": "stdout"
        }
      ]
    },
    {
      "cell_type": "code",
      "metadata": {
        "colab": {
          "base_uri": "https://localhost:8080/"
        },
        "id": "xCAvx3bcdic_",
        "outputId": "9d441372-eb96-4571-9867-2e93ee853740"
      },
      "source": [
        "!jbrowse create jbrowse2"
      ],
      "execution_count": null,
      "outputs": [
        {
          "output_type": "stream",
          "text": [
            " \u001b[31m›\u001b[39m   Error: jbrowse2 This directory has existing files and could cause \n",
            " \u001b[31m›\u001b[39m   conflicts with create. Please choose another directory or use the force \n",
            " \u001b[31m›\u001b[39m   flag to overwrite existing files\n"
          ],
          "name": "stdout"
        }
      ]
    },
    {
      "cell_type": "code",
      "metadata": {
        "colab": {
          "base_uri": "https://localhost:8080/"
        },
        "id": "8GXd9-vDdooa",
        "outputId": "e1139aaf-0cb2-4343-a358-f4c13ddd1a45"
      },
      "source": [
        "%cd /content/jbrowse2"
      ],
      "execution_count": null,
      "outputs": [
        {
          "output_type": "stream",
          "text": [
            "/content/jbrowse2\n"
          ],
          "name": "stdout"
        }
      ]
    },
    {
      "cell_type": "code",
      "metadata": {
        "colab": {
          "base_uri": "https://localhost:8080/"
        },
        "id": "36DGsC1Es3mc",
        "outputId": "9de2aced-9c3c-4703-847d-f1e30a174184"
      },
      "source": [
        "# Replace with the location of your BAM file\n",
        "#jbrowse add-track /data/volvox.bam --load copy\n",
        "\n"
      ],
      "execution_count": null,
      "outputs": [
        {
          "output_type": "stream",
          "text": [
            " \u001b[31m›\u001b[39m   Error: Could not resolve to a file or a URL: \n",
            " \u001b[31m›\u001b[39m   \"/content/newbler_scaffolds_original.fasta.fai\"\n"
          ],
          "name": "stdout"
        }
      ]
    },
    {
      "cell_type": "code",
      "metadata": {
        "colab": {
          "base_uri": "https://localhost:8080/"
        },
        "id": "PMjwzBauj5Ls",
        "outputId": "41c270d6-3d90-4179-b684-7b2739f433ba"
      },
      "source": [
        "### Install ngrok\n",
        "#!wget https://bin.equinox.io/c/4VmDzA7iaHb/ngrok-stable-linux-amd64.zip\n",
        "#!unzip ngrok-stable-linux-amd64.zip\n",
        "\n",
        "### Run ngrok to tunnel Dash app port 5000 to the outside world. \n",
        "### This command runs in the background.\n",
        "get_ipython().system_raw('./ngrok http 9090 &')\n",
        "\n",
        "### Get the public URL where you can access the Dash app. Copy this URL.\n",
        "! curl -s http://localhost:4040/api/tunnels | python3 -c \\\n",
        "    \"import sys, json; print(json.load(sys.stdin)['tunnels'][0]['public_url'])\""
      ],
      "execution_count": null,
      "outputs": [
        {
          "output_type": "stream",
          "text": [
            "http://7f4e2ec1b186.ngrok.io\n"
          ],
          "name": "stdout"
        }
      ]
    },
    {
      "cell_type": "code",
      "metadata": {
        "colab": {
          "base_uri": "https://localhost:8080/"
        },
        "id": "Meo_oed9mz5S",
        "outputId": "09c68cdd-9a9e-4e18-eeb1-2612c3304fc5"
      },
      "source": [
        "#Start the admin-server\n",
        "#!jbrowse admin-server\n",
        "\n",
        "#!npx serve ."
      ],
      "execution_count": null,
      "outputs": [
        {
          "output_type": "stream",
          "text": [
            "\u001b[34m\u001b[39m\n",
            "\u001b[34m   ┌────────────────────────────────────────────────────────────────────┐\u001b[39m\n",
            "   \u001b[34m│\u001b[39m                                                                    \u001b[34m│\u001b[39m\n",
            "   \u001b[34m│\u001b[39m   \u001b[32mNow serving JBrowse\u001b[39m                                              \u001b[34m│\u001b[39m\n",
            "   \u001b[34m│\u001b[39m   \u001b[32mNavigate to the below URL to configure\u001b[39m                           \u001b[34m│\u001b[39m\n",
            "   \u001b[34m│\u001b[39m                                                                    \u001b[34m│\u001b[39m\n",
            "   \u001b[34m│\u001b[39m   \u001b[1m- Local:\u001b[22m            http://localhost:9090?adminKey=c0e4fab488    \u001b[34m│\u001b[39m\n",
            "   \u001b[34m│\u001b[39m   \u001b[1m- On Your Network:\u001b[22m  http://172.28.0.2:9090?adminKey=c0e4fab488   \u001b[34m│\u001b[39m\n",
            "   \u001b[34m│\u001b[39m                                                                    \u001b[34m│\u001b[39m\n",
            "\u001b[34m   └────────────────────────────────────────────────────────────────────┘\u001b[39m\n",
            "\u001b[34m\u001b[39m\n",
            "If you are running yarn start you can launch http://localhost:3000?adminKey=c0e4fab488&adminServer=http://localhost:9090/updateConfig\n",
            "^C\n"
          ],
          "name": "stdout"
        }
      ]
    }
  ]
}